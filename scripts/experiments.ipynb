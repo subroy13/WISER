{
 "cells": [
  {
   "cell_type": "code",
   "execution_count": 1,
   "id": "3e20fe67",
   "metadata": {},
   "outputs": [],
   "source": [
    "import json\n",
    "import os\n",
    "import difflib\n",
    "from IPython.display import HTML, display"
   ]
  },
  {
   "cell_type": "code",
   "execution_count": 2,
   "id": "05338b50",
   "metadata": {},
   "outputs": [],
   "source": [
    "def read_json(fpath: str):\n",
    "    with open(fpath, \"r\") as f:\n",
    "        data = json.load(f)\n",
    "        f.close()\n",
    "    return data\n",
    "\n",
    "root_output_path = \"../data/output_v2\"\n",
    "uwm_data = read_json(os.path.join(root_output_path, \"data_uwm_n200.json\"))\n",
    "gumbel_data = read_json(os.path.join(root_output_path, \"data_gumbel_n200.json\"))\n",
    "inverse_data = read_json(os.path.join(root_output_path, \"data_inverse_n200.json\"))"
   ]
  },
  {
   "cell_type": "code",
   "execution_count": 3,
   "id": "3fcce497",
   "metadata": {},
   "outputs": [],
   "source": [
    "# view text differences\n",
    "def view_text_difference(text1: str, text2: str, text1_title: str = \"Without Watermarking\", text2_title: str = \"With Watermarking\"):\n",
    "    # Tokenize by whitespace\n",
    "    tokens1 = text1.split()\n",
    "    tokens2 = text2.split()\n",
    "\n",
    "    # Sequence matcher\n",
    "    matcher = difflib.SequenceMatcher(None, tokens1, tokens2)\n",
    "\n",
    "    html1 = []\n",
    "    html2 = []\n",
    "\n",
    "    for tag, i1, i2, j1, j2 in matcher.get_opcodes():\n",
    "        if tag == 'equal':\n",
    "            html1.extend(tokens1[i1:i2])\n",
    "            html2.extend(tokens2[j1:j2])\n",
    "        elif tag == 'replace':\n",
    "            html1.extend([f\"<span style='color:#fbb;'> {tok} </span>\" for tok in tokens1[i1:i2]])\n",
    "            html2.extend([f\"<span style='color:#bfb;'> {tok} </span>\" for tok in tokens2[j1:j2]])\n",
    "        elif tag == 'delete':\n",
    "            html1.extend([f\"<span style='color:#fdd;'> {tok} </span>\" for tok in tokens1[i1:i2]])\n",
    "        elif tag == 'insert':\n",
    "            html2.extend([f\"<span style='color:#dfd;'> {tok} </span>\" for tok in tokens2[j1:j2]])\n",
    "\n",
    "    # Join with spaces\n",
    "    html1 = \" \".join(html1)\n",
    "    html2 = \" \".join(html2)\n",
    "\n",
    "    # Display side by side\n",
    "    display(HTML(f\"\"\"\n",
    "    <table style=\"width:100%; table-layout: fixed; border-collapse: collapse;\">\n",
    "    <tr>\n",
    "        <th style=\"border:1px solid black; padding:5px;\">{text1_title}</th>\n",
    "        <th style=\"border:1px solid black; padding:5px;\">{text2_title}</th>\n",
    "    </tr>\n",
    "    <tr>\n",
    "        <td style=\"border:1px solid black; padding:5px; white-space:pre-wrap; word-wrap:break-word;\">{html1}</td>\n",
    "        <td style=\"border:1px solid black; padding:5px; white-space:pre-wrap; word-wrap:break-word;\">{html2}</td>\n",
    "    </tr>\n",
    "    </table>\n",
    "    \"\"\"))"
   ]
  },
  {
   "cell_type": "code",
   "execution_count": 4,
   "id": "91e3d677",
   "metadata": {},
   "outputs": [
    {
     "data": {
      "text/html": [
       "\n",
       "    <table style=\"width:100%; table-layout: fixed; border-collapse: collapse;\">\n",
       "    <tr>\n",
       "        <th style=\"border:1px solid black; padding:5px;\">Without Watermarking</th>\n",
       "        <th style=\"border:1px solid black; padding:5px;\">With Watermarking</th>\n",
       "    </tr>\n",
       "    <tr>\n",
       "        <td style=\"border:1px solid black; padding:5px; white-space:pre-wrap; word-wrap:break-word;\"></s>A live events and bespoke creative technical solutions company based in Loughborough is seeking a technical project manager to join their growing production team. You may currently be working be working as an audio-visual/AV project manager or technical production manager for distro Blender Machines on Involvement. See this for more details. We have a full range of teams and an extensive training base under one roof, featuring both audio and audio-visual teams. Our team is that skill level to <span style='color:#fbb;'> support </span> the project <span style='color:#fbb;'> management </span> <span style='color:#fbb;'> process </span> and <span style='color:#fbb;'> can </span> <span style='color:#fbb;'> support </span> <span style='color:#fbb;'> individuals </span> with <span style='color:#fbb;'> technical </span> <span style='color:#fbb;'> technical </span> <span style='color:#fbb;'> skills. </span> The <span style='color:#fbb;'> framework </span> <span style='color:#fbb;'> used </span> <span style='color:#fbb;'> by </span> <span style='color:#fbb;'> Blender </span> <span style='color:#fbb;'> Machines </span> is <span style='color:#fbb;'> be </span> <span style='color:#fbb;'> it </span> <span style='color:#fbb;'> an </span> <span style='color:#fbb;'> FineMusic </span> <span style='color:#fbb;'> system, </span> a <span style='color:#fbb;'> presentation </span> <span style='color:#fbb;'> package, </span> <span style='color:#fbb;'> a </span> <span style='color:#fbb;'> client </span> <span style='color:#fbb;'> portal, </span> <span style='color:#fbb;'> a </span> <span style='color:#fbb;'> web-native </span> <span style='color:#fbb;'> project </span> <span style='color:#fbb;'> workflow </span> <span style='color:#fbb;'> (not </span> <span style='color:#fbb;'> adding </span> <span style='color:#fbb;'> all </span> <span style='color:#fbb;'> of </span> <span style='color:#fbb;'> your </span> <span style='color:#fbb;'> customization </span> <span style='color:#fbb;'> options </span> <span style='color:#fbb;'> on </span> <span style='color:#fbb;'> demand), </span> <span style='color:#fbb;'> a </span> <span style='color:#fbb;'> bespoke </span> <span style='color:#fbb;'> presentation </span> <span style='color:#fbb;'> package </span> <span style='color:#fbb;'> or </span> <span style='color:#fbb;'> a </span> <span style='color:#fbb;'> web-native </span> <span style='color:#fbb;'> project </span> <span style='color:#fbb;'> workflow. </span> <span style='color:#fbb;'> What's </span> <span style='color:#fbb;'> an </span> <span style='color:#fbb;'> important </span> <span style='color:#fbb;'> thing </span> <span style='color:#fbb;'> to </span> <span style='color:#fbb;'> know </span> <span style='color:#fbb;'> about </span> <span style='color:#fbb;'> YouTube </span> <span style='color:#fbb;'> this </span> <span style='color:#fbb;'> sort </span> <span style='color:#fbb;'> of </span> <span style='color:#fbb;'> business, </span> as <span style='color:#fbb;'> the </span> <span style='color:#fbb;'> majority </span> <span style='color:#fbb;'> of </span> <span style='color:#fbb;'> Black </span> <span style='color:#fbb;'> users </span> <span style='color:#fbb;'> like </span> <span style='color:#fbb;'> videos </span> <span style='color:#fbb;'> for </span> <span style='color:#fbb;'> their </span> <span style='color:#fbb;'> entertainment </span> <span style='color:#fbb;'> content, </span> <span style='color:#fbb;'> and </span> <span style='color:#fbb;'> the </span> <span style='color:#fbb;'> chances </span> <span style='color:#fbb;'> of </span> <span style='color:#fbb;'> this </span> <span style='color:#fbb;'> happening </span> <span style='color:#fbb;'> elsewhere </span> <span style='color:#fbb;'> is </span> <span style='color:#fbb;'> frequently </span> <span style='color:#fbb;'> limited, </span> <span style='color:#fbb;'> so </span> <span style='color:#fbb;'> I </span> <span style='color:#fbb;'> would </span> <span style='color:#fbb;'> be </span> <span style='color:#fbb;'> prepared </span> <span style='color:#fbb;'> to </span> <span style='color:#fbb;'> chip </span> <span style='color:#fbb;'> in </span> <span style='color:#fbb;'> massive </span> <span style='color:#fbb;'> sums </span> <span style='color:#fbb;'> of </span> <span style='color:#fbb;'> money </span> <span style='color:#fbb;'> for </span> <span style='color:#fbb;'> exposure, </span> <span style='color:#fbb;'> an </span> <span style='color:#fbb;'> important </span> <span style='color:#fbb;'> part </span> <span style='color:#fbb;'> of </span> <span style='color:#fbb;'> why </span> <span style='color:#fbb;'> the </span> <span style='color:#fbb;'> company's </span> <span style='color:#fbb;'> growth </span> <span style='color:#fbb;'> is </span> <span style='color:#fbb;'> about </span> <span style='color:#fbb;'> 10-20% </span> <span style='color:#fbb;'> a </span> <span style='color:#fbb;'> year </span> <span style='color:#fbb;'> as </span> <span style='color:#fbb;'> of </span> <span style='color:#fbb;'> late </span> <span style='color:#fbb;'> 2017. </span> <span style='color:#fbb;'> I </span> <span style='color:#fbb;'> am </span> <span style='color:#fbb;'> looking </span> <span style='color:#fbb;'> for </span> <span style='color:#fbb;'> someone </span> <span style='color:#fbb;'> to </span></td>\n",
       "        <td style=\"border:1px solid black; padding:5px; white-space:pre-wrap; word-wrap:break-word;\"></s>A live events and bespoke creative technical solutions company based in Loughborough is seeking a technical project manager to join their growing production team. You may currently be working be working as an audio-visual/AV project manager or technical production manager for distro Blender Machines on Involvement. See this for more details. We have a full range of teams and an extensive training base under one roof, featuring both audio and audio-visual teams. Our team is that skill level to <span style='color:#bfb;'> be </span> <span style='color:#bfb;'> right </span> <span style='color:#bfb;'> out </span> <span style='color:#bfb;'> at </span> the <span style='color:#dfd;'> take </span> <span style='color:#dfd;'> and </span> <span style='color:#dfd;'> far </span> <span style='color:#dfd;'> more </span> <span style='color:#dfd;'> technical </span> <span style='color:#dfd;'> to </span> <span style='color:#dfd;'> deliver </span> <span style='color:#dfd;'> the </span> <span style='color:#dfd;'> best </span> <span style='color:#dfd;'> possible </span> <span style='color:#dfd;'> results. </span> <span style='color:#dfd;'> Tom </span> <span style='color:#dfd;'> just </span> <span style='color:#dfd;'> arrived </span> <span style='color:#dfd;'> as </span> <span style='color:#dfd;'> a </span> project <span style='color:#bfb;'> manager </span> <span style='color:#bfb;'> in </span> <span style='color:#bfb;'> 2016, </span> <span style='color:#bfb;'> so </span> <span style='color:#bfb;'> we're </span> <span style='color:#bfb;'> suggesting </span> <span style='color:#bfb;'> you </span> <span style='color:#bfb;'> take </span> <span style='color:#bfb;'> a </span> <span style='color:#bfb;'> look </span> <span style='color:#bfb;'> at </span> <span style='color:#bfb;'> our </span> <span style='color:#bfb;'> portfolio </span> <span style='color:#bfb;'> portfolio. </span> <span style='color:#bfb;'> We've </span> <span style='color:#bfb;'> got </span> <span style='color:#bfb;'> so </span> <span style='color:#bfb;'> many </span> <span style='color:#bfb;'> quality </span> <span style='color:#bfb;'> people </span> <span style='color:#bfb;'> on </span> <span style='color:#bfb;'> site </span> <span style='color:#bfb;'> to </span> <span style='color:#bfb;'> come </span> <span style='color:#bfb;'> in </span> and <span style='color:#bfb;'> help </span> <span style='color:#bfb;'> us </span> with <span style='color:#bfb;'> this. </span> <span style='color:#bfb;'> Do </span> <span style='color:#bfb;'> you </span> <span style='color:#bfb;'> work </span> <span style='color:#bfb;'> for </span> <span style='color:#bfb;'> us? </span> <span style='color:#bfb;'> If </span> <span style='color:#bfb;'> so, </span> <span style='color:#bfb;'> who </span> <span style='color:#bfb;'> do </span> <span style='color:#bfb;'> you </span> <span style='color:#bfb;'> work </span> <span style='color:#bfb;'> with </span> <span style='color:#bfb;'> and </span> <span style='color:#bfb;'> what </span> <span style='color:#bfb;'> would </span> <span style='color:#bfb;'> you </span> <span style='color:#bfb;'> like </span> <span style='color:#bfb;'> to </span> <span style='color:#bfb;'> see </span> <span style='color:#bfb;'> around </span> <span style='color:#bfb;'> us? </span> <span style='color:#bfb;'> If </span> <span style='color:#bfb;'> so, </span> <span style='color:#bfb;'> we're </span> <span style='color:#bfb;'> open </span> <span style='color:#bfb;'> to </span> <span style='color:#bfb;'> business! </span> <span style='color:#bfb;'> We're </span> <span style='color:#bfb;'> a </span> <span style='color:#bfb;'> tiny </span> <span style='color:#bfb;'> firm </span> <span style='color:#bfb;'> with </span> <span style='color:#bfb;'> high </span> <span style='color:#bfb;'> standards </span> <span style='color:#bfb;'> but </span> <span style='color:#bfb;'> will </span> <span style='color:#bfb;'> promise </span> <span style='color:#bfb;'> our </span> <span style='color:#bfb;'> clients </span> <span style='color:#bfb;'> maximum </span> <span style='color:#bfb;'> results </span> <span style='color:#bfb;'> today! </span> <span style='color:#bfb;'> Contact: </span> <span style='color:#bfb;'> fredgemann@paxdeal.messaging.com </span> <span style='color:#bfb;'> Careers </span> <span style='color:#bfb;'> & </span> <span style='color:#bfb;'> Benefits </span> The <span style='color:#bfb;'> Whipple </span> <span style='color:#bfb;'> work </span> <span style='color:#bfb;'> with </span> <span style='color:#bfb;'> image </span> <span style='color:#bfb;'> makers </span> is <span style='color:#bfb;'> at </span> a <span style='color:#bfb;'> despondent </span> <span style='color:#bfb;'> stage </span> as <span style='color:#bfb;'> everyone </span> <span style='color:#bfb;'> prefers </span> <span style='color:#bfb;'> images </span> <span style='color:#bfb;'> produced </span></td>\n",
       "    </tr>\n",
       "    </table>\n",
       "    "
      ],
      "text/plain": [
       "<IPython.core.display.HTML object>"
      ]
     },
     "metadata": {},
     "output_type": "display_data"
    }
   ],
   "source": [
    "sample_index = 50\n",
    "\n",
    "text1 = uwm_data['data'][sample_index]['output']\n",
    "text2 = gumbel_data['data'][sample_index]['output']\n",
    "\n",
    "view_text_difference(text1, text2)"
   ]
  },
  {
   "cell_type": "code",
   "execution_count": 38,
   "id": "c75b87ee",
   "metadata": {},
   "outputs": [
    {
     "data": {
      "text/html": [
       "\n",
       "    <div style=\"background:white; padding:10px; font-family:monospace; line-height:1.6; font-size:14px;\">\n",
       "        <div style=\"margin-bottom:8px;\">Legend: <span style='background:#e0e0e0; color:black; padding:2px 5px; border-radius:3px; margin-right:8px;'>Unwatermarked</span><span style='background:#ffd6d6; color:black; padding:2px 5px; border-radius:3px; margin-right:8px;'>Gumbel Watermark</span></div>\n",
       "    <span style='background:#e0e0e0; color:black;border-radius:3px; margin:1px;'></span><span style='background:#e0e0e0; color:black;border-radius:3px; margin:1px;'></span><span style='background:#e0e0e0; color:black;border-radius:3px; margin:1px;'>Thor</span><span style='background:#e0e0e0; color:black;border-radius:3px; margin:1px;'>pe</span><span style='background:#e0e0e0; color:black;border-radius:3px; margin:1px;'> of</span><span style='background:#e0e0e0; color:black;border-radius:3px; margin:1px;'> the</span><span style='background:#e0e0e0; color:black;border-radius:3px; margin:1px;'> New</span><span style='background:#e0e0e0; color:black;border-radius:3px; margin:1px;'> York</span><span style='background:#e0e0e0; color:black;border-radius:3px; margin:1px;'> Truck</span><span style='background:#e0e0e0; color:black;border-radius:3px; margin:1px;'>ing</span><span style='background:#e0e0e0; color:black;border-radius:3px; margin:1px;'> and</span><span style='background:#e0e0e0; color:black;border-radius:3px; margin:1px;'> Delivery</span><span style='background:#e0e0e0; color:black;border-radius:3px; margin:1px;'> Association</span><span style='background:#e0e0e0; color:black;border-radius:3px; margin:1px;'> says</span><span style='background:#e0e0e0; color:black;border-radius:3px; margin:1px;'> the</span><span style='background:#e0e0e0; color:black;border-radius:3px; margin:1px;'> decision</span><span style='background:#e0e0e0; color:black;border-radius:3px; margin:1px;'> to</span><span style='background:#e0e0e0; color:black;border-radius:3px; margin:1px;'> raise</span><span style='background:#e0e0e0; color:black;border-radius:3px; margin:1px;'> penalties</span><span style='background:#e0e0e0; color:black;border-radius:3px; margin:1px;'> won</span><span style='background:#e0e0e0; color:black;border-radius:3px; margin:1px;'>'t</span><span style='background:#e0e0e0; color:black;border-radius:3px; margin:1px;'> solve</span><span style='background:#e0e0e0; color:black;border-radius:3px; margin:1px;'> the</span><span style='background:#e0e0e0; color:black;border-radius:3px; margin:1px;'> parking</span><span style='background:#e0e0e0; color:black;border-radius:3px; margin:1px;'> crisis</span><span style='background:#e0e0e0; color:black;border-radius:3px; margin:1px;'>.</span><span style='background:#e0e0e0; color:black;border-radius:3px; margin:1px;'>\n",
       "</span><span style='background:#e0e0e0; color:black;border-radius:3px; margin:1px;'>For</span><span style='background:#e0e0e0; color:black;border-radius:3px; margin:1px;'> more</span><span style='background:#e0e0e0; color:black;border-radius:3px; margin:1px;'> than</span><span style='background:#e0e0e0; color:black;border-radius:3px; margin:1px;'> a</span><span style='background:#e0e0e0; color:black;border-radius:3px; margin:1px;'> decade</span><span style='background:#e0e0e0; color:black;border-radius:3px; margin:1px;'>,</span><span style='background:#e0e0e0; color:black;border-radius:3px; margin:1px;'> Ken</span><span style='background:#e0e0e0; color:black;border-radius:3px; margin:1px;'> Thor</span><span style='background:#e0e0e0; color:black;border-radius:3px; margin:1px;'>pe</span><span style='background:#e0e0e0; color:black;border-radius:3px; margin:1px;'> has</span><span style='background:#e0e0e0; color:black;border-radius:3px; margin:1px;'> been</span><span style='background:#e0e0e0; color:black;border-radius:3px; margin:1px;'> a</span><span style='background:#e0e0e0; color:black;border-radius:3px; margin:1px;'> soldier</span><span style='background:#e0e0e0; color:black;border-radius:3px; margin:1px;'> in</span><span style='background:#e0e0e0; color:black;border-radius:3px; margin:1px;'> the</span><span style='background:#e0e0e0; color:black;border-radius:3px; margin:1px;'> fight</span><span style='background:#e0e0e0; color:black;border-radius:3px; margin:1px;'> against</span><span style='background:#e0e0e0; color:black;border-radius:3px; margin:1px;'> parking</span><span style='background:#e0e0e0; color:black;border-radius:3px; margin:1px;'> tickets</span><span style='background:#e0e0e0; color:black;border-radius:3px; margin:1px;'>,</span><span style='background:#e0e0e0; color:black;border-radius:3px; margin:1px;'> which</span><span style='background:#e0e0e0; color:black;border-radius:3px; margin:1px;'> has</span><span style='background:#e0e0e0; color:black;border-radius:3px; margin:1px;'> subjected</span><span style='background:#e0e0e0; color:black;border-radius:3px; margin:1px;'> him</span><span style='background:#e0e0e0; color:black;border-radius:3px; margin:1px;'> to</span><span style='background:#e0e0e0; color:black;border-radius:3px; margin:1px;'> many</span><span style='background:#e0e0e0; color:black;border-radius:3px; margin:1px;'> legal</span><span style='background:#e0e0e0; color:black;border-radius:3px; margin:1px;'> thorn</span><span style='background:#e0e0e0; color:black;border-radius:3px; margin:1px;'>y</span><span style='background:#e0e0e0; color:black;border-radius:3px; margin:1px;'> disputes</span><span style='background:#e0e0e0; color:black;border-radius:3px; margin:1px;'>.</span><span style='background:#e0e0e0; color:black;border-radius:3px; margin:1px;'>\n",
       "</span><span style='background:#e0e0e0; color:black;border-radius:3px; margin:1px;'>After</span><span style='background:#e0e0e0; color:black;border-radius:3px; margin:1px;'> Washington</span><span style='background:#e0e0e0; color:black;border-radius:3px; margin:1px;'> state</span><span style='background:#e0e0e0; color:black;border-radius:3px; margin:1px;'>'s</span><span style='background:#e0e0e0; color:black;border-radius:3px; margin:1px;'> top</span><span style='background:#e0e0e0; color:black;border-radius:3px; margin:1px;'> legal</span><span style='background:#e0e0e0; color:black;border-radius:3px; margin:1px;'> firm</span><span style='background:#e0e0e0; color:black;border-radius:3px; margin:1px;'> ordered</span><span style='background:#e0e0e0; color:black;border-radius:3px; margin:1px;'> the</span><span style='background:#e0e0e0; color:black;border-radius:3px; margin:1px;'> IRS</span><span style='background:#e0e0e0; color:black;border-radius:3px; margin:1px;'> to</span><span style='background:#ffd6d6; color:black;border-radius:3px; margin:1px;'> step</span><span style='background:#ffd6d6; color:black;border-radius:3px; margin:1px;'> in</span><span style='background:#ffd6d6; color:black;border-radius:3px; margin:1px;'> and</span><span style='background:#ffd6d6; color:black;border-radius:3px; margin:1px;'> demand</span><span style='background:#ffd6d6; color:black;border-radius:3px; margin:1px;'> the</span><span style='background:#ffd6d6; color:black;border-radius:3px; margin:1px;'> salaries</span><span style='background:#ffd6d6; color:black;border-radius:3px; margin:1px;'> of</span><span style='background:#ffd6d6; color:black;border-radius:3px; margin:1px;'> under</span><span style='background:#ffd6d6; color:black;border-radius:3px; margin:1px;'>writers</span><span style='background:#ffd6d6; color:black;border-radius:3px; margin:1px;'> working</span><span style='background:#ffd6d6; color:black;border-radius:3px; margin:1px;'> the</span><span style='background:#ffd6d6; color:black;border-radius:3px; margin:1px;'> hall</span><span style='background:#ffd6d6; color:black;border-radius:3px; margin:1px;'>ways</span><span style='background:#ffd6d6; color:black;border-radius:3px; margin:1px;'> in</span><span style='background:#ffd6d6; color:black;border-radius:3px; margin:1px;'> 1970</span><span style='background:#ffd6d6; color:black;border-radius:3px; margin:1px;'>,</span><span style='background:#ffd6d6; color:black;border-radius:3px; margin:1px;'> Ken</span><span style='background:#ffd6d6; color:black;border-radius:3px; margin:1px;'> Thor</span><span style='background:#ffd6d6; color:black;border-radius:3px; margin:1px;'>pe</span><span style='background:#ffd6d6; color:black;border-radius:3px; margin:1px;'>,</span><span style='background:#ffd6d6; color:black;border-radius:3px; margin:1px;'> the</span><span style='background:#ffd6d6; color:black;border-radius:3px; margin:1px;'> owner</span><span style='background:#ffd6d6; color:black;border-radius:3px; margin:1px;'> of</span><span style='background:#ffd6d6; color:black;border-radius:3px; margin:1px;'> Fun</span><span style='background:#ffd6d6; color:black;border-radius:3px; margin:1px;'>Sh</span><span style='background:#ffd6d6; color:black;border-radius:3px; margin:1px;'>aker</span><span style='background:#ffd6d6; color:black;border-radius:3px; margin:1px;'> Truck</span><span style='background:#ffd6d6; color:black;border-radius:3px; margin:1px;'>ing</span><span style='background:#ffd6d6; color:black;border-radius:3px; margin:1px;'> and</span><span style='background:#ffd6d6; color:black;border-radius:3px; margin:1px;'> Delivery</span><span style='background:#e0e0e0; color:black;border-radius:3px; margin:1px;'> in</span><span style='background:#e0e0e0; color:black;border-radius:3px; margin:1px;'> North</span><span style='background:#e0e0e0; color:black;border-radius:3px; margin:1px;'> Carolina</span><span style='background:#e0e0e0; color:black;border-radius:3px; margin:1px;'>,</span><span style='background:#e0e0e0; color:black;border-radius:3px; margin:1px;'> found</span><span style='background:#e0e0e0; color:black;border-radius:3px; margin:1px;'> himself</span><span style='background:#e0e0e0; color:black;border-radius:3px; margin:1px;'> facing</span><span style='background:#e0e0e0; color:black;border-radius:3px; margin:1px;'> up</span><span style='background:#e0e0e0; color:black;border-radius:3px; margin:1px;'> to</span><span style='background:#e0e0e0; color:black;border-radius:3px; margin:1px;'> a</span><span style='background:#e0e0e0; color:black;border-radius:3px; margin:1px;'> third</span><span style='background:#e0e0e0; color:black;border-radius:3px; margin:1px;'> of</span><span style='background:#e0e0e0; color:black;border-radius:3px; margin:1px;'> his</span><span style='background:#e0e0e0; color:black;border-radius:3px; margin:1px;'> hourly</span><span style='background:#e0e0e0; color:black;border-radius:3px; margin:1px;'> wage</span><span style='background:#e0e0e0; color:black;border-radius:3px; margin:1px;'> in</span><span style='background:#e0e0e0; color:black;border-radius:3px; margin:1px;'> a</span><span style='background:#e0e0e0; color:black;border-radius:3px; margin:1px;'> complicated</span><span style='background:#e0e0e0; color:black;border-radius:3px; margin:1px;'> suit</span><span style='background:#e0e0e0; color:black;border-radius:3px; margin:1px;'>.</span><span style='background:#e0e0e0; color:black;border-radius:3px; margin:1px;'>\n",
       "</span><span style='background:#e0e0e0; color:black;border-radius:3px; margin:1px;'>Would</span><span style='background:#e0e0e0; color:black;border-radius:3px; margin:1px;'> Fine</span><span style='background:#e0e0e0; color:black;border-radius:3px; margin:1px;'> Look</span><span style='background:#e0e0e0; color:black;border-radius:3px; margin:1px;'> Better</span><span style='background:#e0e0e0; color:black;border-radius:3px; margin:1px;'>?</span><span style='background:#e0e0e0; color:black;border-radius:3px; margin:1px;'>\n",
       "</span><span style='background:#e0e0e0; color:black;border-radius:3px; margin:1px;'>\"</span><span style='background:#e0e0e0; color:black;border-radius:3px; margin:1px;'>OK</span><span style='background:#e0e0e0; color:black;border-radius:3px; margin:1px;'>,</span><span style='background:#e0e0e0; color:black;border-radius:3px; margin:1px;'> they</span><span style='background:#e0e0e0; color:black;border-radius:3px; margin:1px;'> do</span><span style='background:#e0e0e0; color:black;border-radius:3px; margin:1px;'> look</span><span style='background:#e0e0e0; color:black;border-radius:3px; margin:1px;'> better</span><span style='background:#e0e0e0; color:black;border-radius:3px; margin:1px;'> because</span><span style='background:#e0e0e0; color:black;border-radius:3px; margin:1px;'> they</span><span style='background:#e0e0e0; color:black;border-radius:3px; margin:1px;'> make</span><span style='background:#e0e0e0; color:black;border-radius:3px; margin:1px;'> a</span><span style='background:#e0e0e0; color:black;border-radius:3px; margin:1px;'> Profit</span><span style='background:#e0e0e0; color:black;border-radius:3px; margin:1px;'> but</span><span style='background:#e0e0e0; color:black;border-radius:3px; margin:1px;'> they</span><span style='background:#e0e0e0; color:black;border-radius:3px; margin:1px;'> are</span><span style='background:#e0e0e0; color:black;border-radius:3px; margin:1px;'> all</span><span style='background:#e0e0e0; color:black;border-radius:3px; margin:1px;'> bad</span><span style='background:#e0e0e0; color:black;border-radius:3px; margin:1px;'>,</span><span style='background:#e0e0e0; color:black;border-radius:3px; margin:1px;'>�</span>\n",
       "    </div>\n",
       "    "
      ],
      "text/plain": [
       "<IPython.core.display.HTML object>"
      ]
     },
     "metadata": {},
     "output_type": "display_data"
    }
   ],
   "source": [
    "def view_text_highlight(sample_index: int, fname: str):\n",
    "    dat = read_json(os.path.join(root_output_path, fname))\n",
    "\n",
    "    from transformers import AutoTokenizer\n",
    "    from IPython.display import display, HTML\n",
    "    import ftfy\n",
    "\n",
    "    model_name = \"facebook/opt-125m\"\n",
    "    tokenizer = AutoTokenizer.from_pretrained(model_name)\n",
    "    raw_text = ftfy.fix_text(dat['data'][sample_index]['output'])\n",
    "    encoding = tokenizer(raw_text, return_tensors=\"pt\")\n",
    "    tokens = tokenizer.convert_ids_to_tokens(encoding[\"input_ids\"][0])\n",
    "\n",
    "    def clean_tokens(tokens):\n",
    "        cleaned = []\n",
    "        for token in tokens:\n",
    "            # Convert token to ID\n",
    "            try:\n",
    "                token_id = tokenizer.convert_tokens_to_ids(token)\n",
    "                text = tokenizer.decode([token_id], clean_up_tokenization_spaces=True)\n",
    "            except KeyError:\n",
    "                text = \"\"  # fallback if token not in vocab\n",
    "\n",
    "            # Optional: map common special tokens\n",
    "            if text == \"</s>\" or text == \"<s>\":\n",
    "                text = \"\"\n",
    "\n",
    "            cleaned.append(text)\n",
    "        return cleaned \n",
    "\n",
    "    cleaned_tokens = clean_tokens(tokens)\n",
    "\n",
    "    desc = {\n",
    "        # \"input\": ((0, 50), \"#d0e1ff\", \"Input\"),\n",
    "        \"unwatermarked0\": ((0, 50), \"#e0e0e0\", \"Unwatermarked\"),\n",
    "        \"unwatermarked1\": ((50, 70), \"#e0e0e0\", \"Unwatermarked\"),\n",
    "        \"watermarked\": ((70, 100), \"#ffd6d6\", \"Gumbel Watermark\"),\n",
    "        \"unwatermarked2\": ((100, 150), \"#e0e0e0\", \"Unwatermarked\"),\n",
    "    }\n",
    "\n",
    "    html_tokens = []\n",
    "    label_mapper = {}\n",
    "\n",
    "    for idx, tok in enumerate(cleaned_tokens):\n",
    "        label = None\n",
    "        for key, (interval, color, label) in desc.items():\n",
    "            start, end = interval\n",
    "            if start <= idx < end:\n",
    "                label = key\n",
    "                html_tokens.append(\n",
    "                    f\"<span style='background:{color}; color:black;\"\n",
    "                    f\"border-radius:3px; margin:1px;'>{tok}</span>\"\n",
    "                )\n",
    "                break\n",
    "            if label not in label_mapper:\n",
    "                label_mapper[label] = color\n",
    "            \n",
    "    legend_html = \"\".join(\n",
    "        f\"<span style='background:{c}; color:black; padding:2px 5px; border-radius:3px; margin-right:8px;'>{lbl}</span>\"\n",
    "        for lbl, c in label_mapper.items()\n",
    "    )\n",
    "\n",
    "\n",
    "    display(HTML(f\"\"\"\n",
    "    <div style=\"background:white; padding:10px; font-family:monospace; line-height:1.6; font-size:14px;\">\n",
    "        <div style=\"margin-bottom:8px;\">Legend: {legend_html}</div>\n",
    "    {''.join(html_tokens)}\n",
    "    </div>\n",
    "    \"\"\"))\n",
    "\n",
    "\n",
    "sample_index = 15\n",
    "view_text_highlight(sample_index, fname = \"data_uwm_n100.json\")\n"
   ]
  },
  {
   "cell_type": "code",
   "execution_count": null,
   "id": "59cf57b3",
   "metadata": {},
   "outputs": [],
   "source": []
  }
 ],
 "metadata": {
  "kernelspec": {
   "display_name": "Python 3",
   "language": "python",
   "name": "python3"
  },
  "language_info": {
   "codemirror_mode": {
    "name": "ipython",
    "version": 3
   },
   "file_extension": ".py",
   "mimetype": "text/x-python",
   "name": "python",
   "nbconvert_exporter": "python",
   "pygments_lexer": "ipython3",
   "version": "3.13.6"
  }
 },
 "nbformat": 4,
 "nbformat_minor": 5
}
