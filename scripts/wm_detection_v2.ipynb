{
 "cells": [
  {
   "cell_type": "code",
   "execution_count": 72,
   "id": "5c80bfd6",
   "metadata": {},
   "outputs": [],
   "source": [
    "import numpy as np\n",
    "import pandas as pd\n",
    "import matplotlib.pyplot as plt\n",
    "import seaborn as sns\n",
    "import os\n",
    "import json\n",
    "from tqdm.notebook import tqdm\n",
    "from typing import List, Tuple, Union\n",
    "import time"
   ]
  },
  {
   "cell_type": "markdown",
   "id": "929b72eb",
   "metadata": {},
   "source": [
    "# Some Utility Functions"
   ]
  },
  {
   "cell_type": "code",
   "execution_count": 73,
   "id": "850b0469",
   "metadata": {},
   "outputs": [
    {
     "data": {
      "text/plain": [
       "['data_princeton-nlp-Sheared-LLaMA-1-3B_n500_synthid.json',\n",
       " 'data_facebook-opt-1-3b_n500_pf.json',\n",
       " 'data_facebook-opt-125m_n500_inverse.json',\n",
       " 'data_google-gemma-3-270m_n500_gumbel.json',\n",
       " 'data_facebook-opt-1-3b_n500_unwatermarked.json',\n",
       " 'data_mistralai-Mistral-7B-v0-1_n500_pf.json',\n",
       " 'data_google-gemma-3-270m_n500_inverse.json',\n",
       " 'data_meta-llama-Meta-Llama-3-8B_n500_gumbel.json',\n",
       " 'data_facebook-opt-1-3b_n500_redgreen.json',\n",
       " 'data_google-gemma-3-270m_n500_redgreen.json',\n",
       " 'data_facebook-opt-1-3b_n500_synthid.json',\n",
       " 'data_meta-llama-Meta-Llama-3-8B_n500_pf.json',\n",
       " 'data_princeton-nlp-Sheared-LLaMA-1-3B_n500_pf.json',\n",
       " 'data_facebook-opt-125m_n500_unwatermarked.json',\n",
       " 'data_princeton-nlp-Sheared-LLaMA-1-3B_n500_gumbel.json',\n",
       " 'data_mistralai-Mistral-7B-v0-1_n500_redgreen.json',\n",
       " 'data_mistralai-Mistral-7B-v0-1_n500_gumbel.json',\n",
       " 'data_facebook-opt-1-3b_n500_inverse.json',\n",
       " 'data_mistralai-Mistral-7B-v0-1_n500_inverse.json',\n",
       " 'data_princeton-nlp-Sheared-LLaMA-1-3B_n500_unwatermarked.json',\n",
       " 'data_google-gemma-3-270m_n500_pf.json',\n",
       " 'data_facebook-opt-125m_n500_gumbel.json',\n",
       " 'data_facebook-opt-125m_n500_redgreen.json',\n",
       " 'data_facebook-opt-1-3b_n500_gumbel.json',\n",
       " 'data_princeton-nlp-Sheared-LLaMA-1-3B_n500_inverse.json',\n",
       " 'data_meta-llama-Meta-Llama-3-8B_n500_inverse.json',\n",
       " 'data_facebook-opt-125m_n500_pf.json',\n",
       " 'data_princeton-nlp-Sheared-LLaMA-1-3B_n500_redgreen.json',\n",
       " 'data_meta-llama-Meta-Llama-3-8B_n500_redgreen.json',\n",
       " 'data_facebook-opt-125m_n500_synthid.json']"
      ]
     },
     "execution_count": 73,
     "metadata": {},
     "output_type": "execute_result"
    }
   ],
   "source": [
    "def read_json(fpath: str):\n",
    "    with open(fpath, \"r\") as f:\n",
    "        data = json.load(f)\n",
    "        f.close()\n",
    "    return data\n",
    "\n",
    "root_output_path = \"../data/output\"\n",
    "file_list = [fname for fname in os.listdir(root_output_path) if fname.endswith(\".json\")]\n",
    "file_list"
   ]
  },
  {
   "cell_type": "code",
   "execution_count": 74,
   "id": "21fc98f2",
   "metadata": {},
   "outputs": [],
   "source": [
    "# IOU is the typical metric that is tracked in these scenarios\n",
    "def get_iou(intervalsA: List[Tuple[int, int]], intervalsB: List[Tuple[int, int]]):\n",
    "  coordsA = set([x for start, end in intervalsA for x in range(start, end)])\n",
    "  coordsB = set([x for start, end in intervalsB for x in range(start, end)])\n",
    "  num = len(coordsA.intersection(coordsB))\n",
    "  denom = len(coordsA.union(coordsB))\n",
    "  return (num / denom)\n",
    "\n",
    "def get_hit_counts(true_intervals: List[Tuple[int, int]], estimated_intervals: List[Tuple[int, int]]):\n",
    "  # count how many of the true intervals we have nonzero IOU\n",
    "  hit_count = 0\n",
    "  est_intervals = estimated_intervals.copy()\n",
    "  for true_int in true_intervals:\n",
    "    max_iou = 0\n",
    "    max_index = None\n",
    "    for j in range(len(est_intervals)):\n",
    "      iou = get_iou([true_int], [est_intervals[j]])\n",
    "      if iou > 0 and iou > max_iou:\n",
    "        max_iou = iou\n",
    "        max_index = j\n",
    "    \n",
    "    if max_iou > 0 and max_index is not None:\n",
    "      hit_count += 1\n",
    "      est_intervals.pop(max_index)\n",
    "\n",
    "  return hit_count\n",
    "\n",
    "def get_rand_index(intervalsA: List[Tuple[int, int]], intervalsB: List[Tuple[int, int]], n: int):\n",
    "  # convert interval endpoints to sorted changepoints for fast computation\n",
    "  # reference: https://arxiv.org/pdf/2112.03738\n",
    "  cpA = sorted([0, n] + [x for interval in intervalsA for x in interval])\n",
    "  cpB = sorted([0, n] + [x for interval in intervalsB for x in interval])\n",
    "  num = 0\n",
    "  for i in range(len(cpA) - 1):\n",
    "    for j in range(len(cpB) - 1):\n",
    "      nij = max(0, min(cpA[i+1], cpB[j+1]) - max(cpA[i], cpB[j]))\n",
    "      num += (nij * abs(cpA[i+1] - cpB[j+1]))\n",
    "  return 1 - 2 * num / (n*(n-1))\n",
    "\n",
    "\n",
    "# metric to find the symmetric differences\n",
    "def get_symmetric_difference(intA, intB):\n",
    "  sA, eA = intA\n",
    "  sB, eB = intB\n",
    "  return abs(sA - sB) + abs(eA - eB)"
   ]
  },
  {
   "cell_type": "code",
   "execution_count": 75,
   "id": "58216809",
   "metadata": {},
   "outputs": [],
   "source": [
    "# get summary of detection methods applied for a specific data\n",
    "def get_summarized_results(data, get_interval_func, add_plot = False, verbose = True):\n",
    "    metrics_list = []\n",
    "    interval_endpoints = []\n",
    "    true_intervals =  [\n",
    "        (start, end) for (start, end, interval_type) in data['configuration']['intervals'] if interval_type != 'unwatermarked'\n",
    "    ]\n",
    "\n",
    "    n = 0\n",
    "    for sample_index, sample_data in tqdm(list(enumerate(data[\"data\"]))):\n",
    "        pivots = sample_data[\"pivots\"]\n",
    "        n = max(n, len(pivots))\n",
    "        pivots = np.array(pivots)\n",
    "        pivots[np.isinf(pivots)] = pivots[~np.isinf(pivots)].max() # replace by maximum for infinite values\n",
    "        est_intervals, time_taken = get_interval_func(pivots)\n",
    "        \n",
    "        # add detected endpoints to array\n",
    "        for left_end, right_end in est_intervals:\n",
    "            interval_endpoints.append(left_end)\n",
    "            interval_endpoints.append(right_end)\n",
    "\n",
    "        # calculate metrics\n",
    "        hit_count = get_hit_counts(true_intervals, est_intervals)\n",
    "        metric_row = {\n",
    "            \"sample_index\": sample_index,\n",
    "            \"detected_intervals_count\": len(est_intervals),\n",
    "            \"iou\": get_iou(est_intervals, true_intervals),\n",
    "            \"recall\": hit_count / max(len(true_intervals), 1),  # Recall\n",
    "            \"precision\": hit_count / max(len(est_intervals), 1),  # Precision\n",
    "            \"rand_index\": get_rand_index(true_intervals, est_intervals, n),\n",
    "            \"time\": time_taken\n",
    "        }\n",
    "        metrics_list.append(metric_row)\n",
    "\n",
    "    metric_df = pd.DataFrame(metrics_list)\n",
    "    # metric_df['f1'] = 2 * metric_df['precision'] * metric_df['recall'] / (metric_df['precision'] + metric_df['recall'])\n",
    "    f1 = 2 * metric_df['precision'].mean() * metric_df['recall'].mean() / (metric_df['precision'].mean() + metric_df['recall'].mean())\n",
    "\n",
    "    return {\n",
    "        \"model_name\": data['configuration']['model_name'],\n",
    "        \"iou\": metric_df['iou'].mean(),\n",
    "        \"precision\": metric_df['precision'].mean(),\n",
    "        \"recall\": metric_df['recall'].mean(),\n",
    "        \"f1\": f1,\n",
    "        \"rand_index\": metric_df['rand_index'].mean()\n",
    "    }\n",
    "\n",
    "    # if verbose:\n",
    "    #     # print the description of the setup\n",
    "    #     print(f\"Model name: {data['configuration']['model_name']}\")\n",
    "    #     print(f\"Output tokens: {data['configuration']['out_tokens']}\")\n",
    "    #     print(f\"Vocab size: {data['configuration']['vocab_size']}\")\n",
    "    #     print(f\"Segment types: {', '.join([interval_type for start, end, interval_type in data['configuration']['intervals']])}\\n\")\n",
    "\n",
    "    #     # Summary 1: Frequency table of # of detected intervals\n",
    "    #     frequency_table = metric_df['detected_intervals_count'].value_counts().reset_index()\n",
    "    #     frequency_table.columns = ['value', 'frequency']\n",
    "    #     frequency_table['proportion'] = frequency_table['frequency'] / frequency_table['frequency'].sum()\n",
    "    #     print(f\"Frequency Table of Detected Intervals: \\n{frequency_table.sort_values(by = \"frequency\", ascending=False).head(5)}\")\n",
    "\n",
    "    #     # Summary 2: Describe the scores\n",
    "    #     print(f\"\\nAdditional Metrics: \\nMean IOU: {metric_df['iou'].mean()}\\nMean Time Taken: {metric_df['time'].mean()}\")\n",
    "\n",
    "    # # draw a histogram of detected intervals endpoints\n",
    "    # if add_plot:\n",
    "    #     plt.figure(figsize=(10, 6))\n",
    "    #     h = sns.histplot(\n",
    "    #         data=pd.DataFrame({'endpoints': interval_endpoints}),\n",
    "    #         x='endpoints',\n",
    "    #         binwidth=n/100\n",
    "    #     )\n",
    "    #     plt.vlines(\n",
    "    #         x=[int(a) for x in true_intervals for a in x],\n",
    "    #         ymin=h.get_ylim()[0],\n",
    "    #         ymax = h.get_ylim()[1],\n",
    "    #         colors=\"red\"\n",
    "    #     )\n",
    "    #     plt.title('Histogram of Detected Endpoints')\n",
    "    #     plt.xlim(0, n)\n",
    "    #     plt.grid(True)\n",
    "    #     plt.tight_layout()\n",
    "    #     plt.show()\n",
    "\n",
    "    # return {\n",
    "    #     \"model_name\": data['configuration']['model_name'],\n",
    "    #     \"iou\": metric_df['iou'].mean(),\n",
    "    #     \"time\": metric_df['time'].mean() * 1000\n",
    "    # }"
   ]
  },
  {
   "cell_type": "markdown",
   "id": "cded38dd",
   "metadata": {},
   "source": [
    "# Calculate Metrics"
   ]
  },
  {
   "cell_type": "code",
   "execution_count": 76,
   "id": "fd660005",
   "metadata": {},
   "outputs": [],
   "source": [
    "from detections import EpidemicDetectorV2, AligatorCPPDetector, WinMaxDetector, FixedWindowDetector, WaterSeekerDetector\n",
    "from watermarking_func import null_distn_gumbel, null_distn_inverse, null_distn_redgreen, null_distn_synthid, null_distn_pf"
   ]
  },
  {
   "cell_type": "code",
   "execution_count": 86,
   "id": "6be21fdb",
   "metadata": {},
   "outputs": [],
   "source": [
    "# best block sizes for epidemic\n",
    "# block_size = 65, c = 1\n",
    "\n",
    "null_dist_list = {\n",
    "    \"gumbel\": null_distn_gumbel,\n",
    "    \"inverse\": null_distn_inverse,\n",
    "    \"redgreen\": null_distn_redgreen,\n",
    "    \"pf\": null_distn_pf\n",
    "}\n",
    "\n",
    "model_list = [\n",
    "    \"data_facebook-opt-125m_n500\",\n",
    "    \"data_google-gemma-3-270m_n500\",\n",
    "    \"data_facebook-opt-1-3b_n500\",\n",
    "    \"data_princeton-nlp-Sheared-LLaMA-1-3B_n500\",\n",
    "    \"data_mistralai-Mistral-7B-v0-1_n500\",\n",
    "    \"data_meta-llama-Meta-Llama-3-8B_n500\"\n",
    "]\n",
    "watermark_method = \"pf\"\n",
    "null_distn = null_dist_list[watermark_method]\n"
   ]
  },
  {
   "cell_type": "code",
   "execution_count": 87,
   "id": "50dcf80b",
   "metadata": {},
   "outputs": [
    {
     "name": "stdout",
     "output_type": "stream",
     "text": [
      "\n",
      "\n",
      "Loaded file data_facebook-opt-125m_n500_pf.json with model facebook/opt-125m and vocab size 50272\n",
      "\n"
     ]
    },
    {
     "data": {
      "application/vnd.jupyter.widget-view+json": {
       "model_id": "4d93a0ce2a1d49f2bc2cb603f82cf633",
       "version_major": 2,
       "version_minor": 0
      },
      "text/plain": [
       "  0%|          | 0/200 [00:00<?, ?it/s]"
      ]
     },
     "metadata": {},
     "output_type": "display_data"
    },
    {
     "data": {
      "application/vnd.jupyter.widget-view+json": {
       "model_id": "d8a151fb0dec4d3f84553fde2b0eee80",
       "version_major": 2,
       "version_minor": 0
      },
      "text/plain": [
       "  0%|          | 0/200 [00:00<?, ?it/s]"
      ]
     },
     "metadata": {},
     "output_type": "display_data"
    },
    {
     "data": {
      "application/vnd.jupyter.widget-view+json": {
       "model_id": "e6f5077569bd499194428b88b52861ee",
       "version_major": 2,
       "version_minor": 0
      },
      "text/plain": [
       "  0%|          | 0/200 [00:00<?, ?it/s]"
      ]
     },
     "metadata": {},
     "output_type": "display_data"
    },
    {
     "data": {
      "application/vnd.jupyter.widget-view+json": {
       "model_id": "73062c666ab447f3bc121522b461de8c",
       "version_major": 2,
       "version_minor": 0
      },
      "text/plain": [
       "  0%|          | 0/200 [00:00<?, ?it/s]"
      ]
     },
     "metadata": {},
     "output_type": "display_data"
    },
    {
     "name": "stdout",
     "output_type": "stream",
     "text": [
      "\n",
      "\n",
      "Loaded file data_google-gemma-3-270m_n500_pf.json with model google/gemma-3-270m and vocab size 262144\n",
      "\n"
     ]
    },
    {
     "data": {
      "application/vnd.jupyter.widget-view+json": {
       "model_id": "a1c296578cb94fa78c0abf67220c541b",
       "version_major": 2,
       "version_minor": 0
      },
      "text/plain": [
       "  0%|          | 0/200 [00:00<?, ?it/s]"
      ]
     },
     "metadata": {},
     "output_type": "display_data"
    },
    {
     "data": {
      "application/vnd.jupyter.widget-view+json": {
       "model_id": "7a4d3d1fdaf74956a88218da2c59f899",
       "version_major": 2,
       "version_minor": 0
      },
      "text/plain": [
       "  0%|          | 0/200 [00:00<?, ?it/s]"
      ]
     },
     "metadata": {},
     "output_type": "display_data"
    },
    {
     "data": {
      "application/vnd.jupyter.widget-view+json": {
       "model_id": "8f94efc6bf044792b042157b9c7f562d",
       "version_major": 2,
       "version_minor": 0
      },
      "text/plain": [
       "  0%|          | 0/200 [00:00<?, ?it/s]"
      ]
     },
     "metadata": {},
     "output_type": "display_data"
    },
    {
     "data": {
      "application/vnd.jupyter.widget-view+json": {
       "model_id": "bc9c7221430148df837f08f7cbeb7675",
       "version_major": 2,
       "version_minor": 0
      },
      "text/plain": [
       "  0%|          | 0/200 [00:00<?, ?it/s]"
      ]
     },
     "metadata": {},
     "output_type": "display_data"
    },
    {
     "name": "stdout",
     "output_type": "stream",
     "text": [
      "\n",
      "\n",
      "Loaded file data_facebook-opt-1-3b_n500_pf.json with model facebook/opt-1.3b and vocab size 50272\n",
      "\n"
     ]
    },
    {
     "data": {
      "application/vnd.jupyter.widget-view+json": {
       "model_id": "e7a85d38ba7a4bee8220e669164f7107",
       "version_major": 2,
       "version_minor": 0
      },
      "text/plain": [
       "  0%|          | 0/200 [00:00<?, ?it/s]"
      ]
     },
     "metadata": {},
     "output_type": "display_data"
    },
    {
     "data": {
      "application/vnd.jupyter.widget-view+json": {
       "model_id": "5e25c627f61b4641b4ea9ce2a333db24",
       "version_major": 2,
       "version_minor": 0
      },
      "text/plain": [
       "  0%|          | 0/200 [00:00<?, ?it/s]"
      ]
     },
     "metadata": {},
     "output_type": "display_data"
    },
    {
     "data": {
      "application/vnd.jupyter.widget-view+json": {
       "model_id": "1564d1a2c31c4d28ba7be799c43fff70",
       "version_major": 2,
       "version_minor": 0
      },
      "text/plain": [
       "  0%|          | 0/200 [00:00<?, ?it/s]"
      ]
     },
     "metadata": {},
     "output_type": "display_data"
    },
    {
     "data": {
      "application/vnd.jupyter.widget-view+json": {
       "model_id": "acde9a79cbe242b9ab1ad18a584c74f6",
       "version_major": 2,
       "version_minor": 0
      },
      "text/plain": [
       "  0%|          | 0/200 [00:00<?, ?it/s]"
      ]
     },
     "metadata": {},
     "output_type": "display_data"
    },
    {
     "name": "stdout",
     "output_type": "stream",
     "text": [
      "\n",
      "\n",
      "Loaded file data_princeton-nlp-Sheared-LLaMA-1-3B_n500_pf.json with model princeton-nlp/Sheared-LLaMA-1.3B and vocab size 32000\n",
      "\n"
     ]
    },
    {
     "data": {
      "application/vnd.jupyter.widget-view+json": {
       "model_id": "4b8cb776f35d41d7ae6633a9d3a2da81",
       "version_major": 2,
       "version_minor": 0
      },
      "text/plain": [
       "  0%|          | 0/200 [00:00<?, ?it/s]"
      ]
     },
     "metadata": {},
     "output_type": "display_data"
    },
    {
     "data": {
      "application/vnd.jupyter.widget-view+json": {
       "model_id": "4b7ded358d874207b41b426b8dcdfc33",
       "version_major": 2,
       "version_minor": 0
      },
      "text/plain": [
       "  0%|          | 0/200 [00:00<?, ?it/s]"
      ]
     },
     "metadata": {},
     "output_type": "display_data"
    },
    {
     "data": {
      "application/vnd.jupyter.widget-view+json": {
       "model_id": "6a8a0f3a1eb94c1980352bd070839365",
       "version_major": 2,
       "version_minor": 0
      },
      "text/plain": [
       "  0%|          | 0/200 [00:00<?, ?it/s]"
      ]
     },
     "metadata": {},
     "output_type": "display_data"
    },
    {
     "data": {
      "application/vnd.jupyter.widget-view+json": {
       "model_id": "6fd919fb503e48f4b7521c44714e601b",
       "version_major": 2,
       "version_minor": 0
      },
      "text/plain": [
       "  0%|          | 0/200 [00:00<?, ?it/s]"
      ]
     },
     "metadata": {},
     "output_type": "display_data"
    },
    {
     "name": "stdout",
     "output_type": "stream",
     "text": [
      "\n",
      "\n",
      "Loaded file data_mistralai-Mistral-7B-v0-1_n500_pf.json with model mistralai/Mistral-7B-v0.1 and vocab size 32000\n",
      "\n"
     ]
    },
    {
     "data": {
      "application/vnd.jupyter.widget-view+json": {
       "model_id": "b277678baa5e4cd382a90fab976f5a9b",
       "version_major": 2,
       "version_minor": 0
      },
      "text/plain": [
       "  0%|          | 0/200 [00:00<?, ?it/s]"
      ]
     },
     "metadata": {},
     "output_type": "display_data"
    },
    {
     "data": {
      "application/vnd.jupyter.widget-view+json": {
       "model_id": "488a3928e4924ea3807129c956d7d186",
       "version_major": 2,
       "version_minor": 0
      },
      "text/plain": [
       "  0%|          | 0/200 [00:00<?, ?it/s]"
      ]
     },
     "metadata": {},
     "output_type": "display_data"
    },
    {
     "data": {
      "application/vnd.jupyter.widget-view+json": {
       "model_id": "684fb6fd4571418d9301177b91718926",
       "version_major": 2,
       "version_minor": 0
      },
      "text/plain": [
       "  0%|          | 0/200 [00:00<?, ?it/s]"
      ]
     },
     "metadata": {},
     "output_type": "display_data"
    },
    {
     "data": {
      "application/vnd.jupyter.widget-view+json": {
       "model_id": "a85ef4135af64112813cee567047cf91",
       "version_major": 2,
       "version_minor": 0
      },
      "text/plain": [
       "  0%|          | 0/200 [00:00<?, ?it/s]"
      ]
     },
     "metadata": {},
     "output_type": "display_data"
    },
    {
     "name": "stdout",
     "output_type": "stream",
     "text": [
      "\n",
      "\n",
      "Loaded file data_meta-llama-Meta-Llama-3-8B_n500_pf.json with model meta-llama/Meta-Llama-3-8B and vocab size 128256\n",
      "\n"
     ]
    },
    {
     "data": {
      "application/vnd.jupyter.widget-view+json": {
       "model_id": "bfc99427c3c3444a8338adf0008879fa",
       "version_major": 2,
       "version_minor": 0
      },
      "text/plain": [
       "  0%|          | 0/200 [00:00<?, ?it/s]"
      ]
     },
     "metadata": {},
     "output_type": "display_data"
    },
    {
     "data": {
      "application/vnd.jupyter.widget-view+json": {
       "model_id": "d04b9121b9ce4cce981bde13edbfa4ee",
       "version_major": 2,
       "version_minor": 0
      },
      "text/plain": [
       "  0%|          | 0/200 [00:00<?, ?it/s]"
      ]
     },
     "metadata": {},
     "output_type": "display_data"
    },
    {
     "data": {
      "application/vnd.jupyter.widget-view+json": {
       "model_id": "14a9e43264e4415ab5fbd3faff0b93fb",
       "version_major": 2,
       "version_minor": 0
      },
      "text/plain": [
       "  0%|          | 0/200 [00:00<?, ?it/s]"
      ]
     },
     "metadata": {},
     "output_type": "display_data"
    },
    {
     "data": {
      "application/vnd.jupyter.widget-view+json": {
       "model_id": "03a923d001cd4fc685768b110cc3967d",
       "version_major": 2,
       "version_minor": 0
      },
      "text/plain": [
       "  0%|          | 0/200 [00:00<?, ?it/s]"
      ]
     },
     "metadata": {},
     "output_type": "display_data"
    }
   ],
   "source": [
    "outputs = []\n",
    "for fmodel in model_list:\n",
    "    fname = f\"{fmodel}_{watermark_method}.json\"\n",
    "    data = read_json(os.path.join(root_output_path, fname))\n",
    "    vocab_size = data['configuration']['vocab_size']\n",
    "    model_name = data['configuration']['model_name']\n",
    "    print(f\"\\n\\nLoaded file {fname} with model {model_name} and vocab size {vocab_size}\\n\")\n",
    "\n",
    "    # Run epidemic\n",
    "    def get_epidemic_intervals(x):\n",
    "        d = EpidemicDetectorV2(vocab_size)\n",
    "        return d.detect(x, null_distn=null_distn, block_size=65, c = 1) \n",
    "    \n",
    "    res = get_summarized_results(data, get_epidemic_intervals, verbose=False)\n",
    "    res['method'] = \"Epidemic\"\n",
    "    res['model_name'] = model_name\n",
    "    res['vocab_size'] = vocab_size\n",
    "    outputs.append(res)\n",
    "\n",
    "\n",
    "    # Run aligator\n",
    "    def get_aligator_intervals(x):\n",
    "        d = AligatorCPPDetector(vocab_size)\n",
    "        return d.detect(np.array(x), null_distn)\n",
    "        \n",
    "    res = get_summarized_results(data, get_aligator_intervals, verbose=False)\n",
    "    res['method'] = \"Aligator\"\n",
    "    res['model_name'] = model_name\n",
    "    res['vocab_size'] = vocab_size\n",
    "    outputs.append(res)\n",
    "\n",
    "    # # Run winmax\n",
    "    # def get_winmax_intervals(x):\n",
    "    #     d = WinMaxDetector(vocab_size)\n",
    "    #     return d.detect(x, null_distn)\n",
    "    # res = get_summarized_results(data, get_winmax_intervals, verbose=False)\n",
    "    # res['method'] = \"Winmax\"\n",
    "    # res['model_name'] = model_name\n",
    "    # res['vocab_size'] = vocab_size\n",
    "    # outputs.append(res)\n",
    "\n",
    "    # Run fixed width\n",
    "    def get_fixedwidth_intervals(x):\n",
    "        d = FixedWindowDetector(vocab_size)\n",
    "        return d.detect(x, null_distn)\n",
    "    res = get_summarized_results(data, get_fixedwidth_intervals, verbose=False)\n",
    "    res['method'] = \"FW\"\n",
    "    res['model_name'] = model_name\n",
    "    res['vocab_size'] = vocab_size\n",
    "    outputs.append(res)\n",
    "    \n",
    "    # Run waterseeker\n",
    "    def get_seek_intervals(x):\n",
    "        d = WaterSeekerDetector(vocab_size)\n",
    "        return d.detect(x, null_distn)\n",
    "    res = get_summarized_results(data, get_seek_intervals, verbose=False)\n",
    "    res['method'] = \"Waterseeker\"\n",
    "    res['model_name'] = model_name\n",
    "    res['vocab_size'] = vocab_size\n",
    "    outputs.append(res)\n",
    "\n",
    "\n",
    "output_df = pd.DataFrame(outputs)\n",
    "\n",
    "# output_df = output_df[['model_name', 'vocab_size', 'method', 'iou', 'precision', 'recall', 'f1']].round(3)\n",
    "# output_df"
   ]
  },
  {
   "cell_type": "code",
   "execution_count": 88,
   "id": "fb14b702",
   "metadata": {},
   "outputs": [
    {
     "name": "stdout",
     "output_type": "stream",
     "text": [
      "\\begin{tabular}{lrlrrrrr}\n",
      "\\toprule\n",
      "model_name & vocab_size & method & iou & precision & recall & f1 & rand_index \\\\\n",
      "\\midrule\n",
      "facebook/opt-125m & 50272 & Epidemic & 0.846 & 0.998 & 0.998 & 0.998 & 0.960 \\\\\n",
      "facebook/opt-125m & 50272 & Aligator & 0.665 & 0.345 & 0.978 & 0.510 & 0.935 \\\\\n",
      "facebook/opt-125m & 50272 & FW & 0.469 & 0.009 & 1.000 & 0.018 & 0.805 \\\\\n",
      "facebook/opt-125m & 50272 & Waterseeker & 0.712 & 1.000 & 0.905 & 0.950 & 0.891 \\\\\n",
      "google/gemma-3-270m & 262144 & Epidemic & 0.831 & 1.000 & 1.000 & 1.000 & 0.956 \\\\\n",
      "google/gemma-3-270m & 262144 & Aligator & 0.558 & 0.252 & 0.952 & 0.399 & 0.906 \\\\\n",
      "google/gemma-3-270m & 262144 & FW & 0.507 & 0.008 & 1.000 & 0.016 & 0.833 \\\\\n",
      "google/gemma-3-270m & 262144 & Waterseeker & 0.614 & 1.000 & 0.782 & 0.878 & 0.841 \\\\\n",
      "facebook/opt-1.3b & 50272 & Epidemic & 0.819 & 1.000 & 0.990 & 0.995 & 0.951 \\\\\n",
      "facebook/opt-1.3b & 50272 & Aligator & 0.446 & 0.216 & 0.928 & 0.350 & 0.887 \\\\\n",
      "facebook/opt-1.3b & 50272 & FW & 0.517 & 0.008 & 0.992 & 0.017 & 0.835 \\\\\n",
      "facebook/opt-1.3b & 50272 & Waterseeker & 0.677 & 1.000 & 0.840 & 0.913 & 0.873 \\\\\n",
      "princeton-nlp/Sheared-LLaMA-1.3B & 32000 & Epidemic & 0.827 & 1.000 & 1.000 & 1.000 & 0.956 \\\\\n",
      "princeton-nlp/Sheared-LLaMA-1.3B & 32000 & Aligator & 0.397 & 0.202 & 0.870 & 0.328 & 0.870 \\\\\n",
      "princeton-nlp/Sheared-LLaMA-1.3B & 32000 & FW & 0.517 & 0.008 & 1.000 & 0.017 & 0.837 \\\\\n",
      "princeton-nlp/Sheared-LLaMA-1.3B & 32000 & Waterseeker & 0.653 & 1.000 & 0.778 & 0.875 & 0.851 \\\\\n",
      "mistralai/Mistral-7B-v0.1 & 32000 & Epidemic & 0.800 & 1.000 & 0.998 & 0.999 & 0.949 \\\\\n",
      "mistralai/Mistral-7B-v0.1 & 32000 & Aligator & 0.215 & 0.164 & 0.672 & 0.263 & 0.817 \\\\\n",
      "mistralai/Mistral-7B-v0.1 & 32000 & FW & 0.542 & 0.009 & 1.000 & 0.018 & 0.843 \\\\\n",
      "mistralai/Mistral-7B-v0.1 & 32000 & Waterseeker & 0.646 & 1.000 & 0.795 & 0.886 & 0.853 \\\\\n",
      "meta-llama/Meta-Llama-3-8B & 128256 & Epidemic & 0.810 & 1.000 & 0.998 & 0.999 & 0.951 \\\\\n",
      "meta-llama/Meta-Llama-3-8B & 128256 & Aligator & 0.551 & 0.351 & 0.950 & 0.513 & 0.911 \\\\\n",
      "meta-llama/Meta-Llama-3-8B & 128256 & FW & 0.525 & 0.008 & 1.000 & 0.017 & 0.837 \\\\\n",
      "meta-llama/Meta-Llama-3-8B & 128256 & Waterseeker & 0.535 & 1.000 & 0.712 & 0.832 & 0.799 \\\\\n",
      "\\bottomrule\n",
      "\\end{tabular}\n",
      "\n"
     ]
    }
   ],
   "source": [
    "output_df = output_df[['model_name', 'vocab_size', 'method', 'iou', 'precision', 'recall', 'f1', 'rand_index']].round(3)\n",
    "\n",
    "# output_df\n",
    "print(output_df.to_latex(index=False, float_format=\"%.3f\"))"
   ]
  },
  {
   "cell_type": "code",
   "execution_count": null,
   "id": "2882c26d",
   "metadata": {},
   "outputs": [],
   "source": []
  },
  {
   "cell_type": "markdown",
   "id": "530f7c52",
   "metadata": {},
   "source": [
    "# Watermark Detection Speed Comparison"
   ]
  },
  {
   "cell_type": "code",
   "execution_count": 18,
   "id": "6c70c1ae",
   "metadata": {},
   "outputs": [],
   "source": [
    "from detections import AligatorCPPDetector, FixedWindowDetector, WaterSeekerDetector, EpidemicDetectorV2\n",
    "from watermarking_func import null_distn_gumbel, null_distn_inverse, null_distn_redgreen, null_distn_pf"
   ]
  },
  {
   "cell_type": "code",
   "execution_count": 19,
   "id": "6513d493",
   "metadata": {},
   "outputs": [
    {
     "data": {
      "application/vnd.jupyter.widget-view+json": {
       "model_id": "63ed4ff884f1464abe0384a83fa0578c",
       "version_major": 2,
       "version_minor": 0
      },
      "text/plain": [
       "  0%|          | 0/1200 [00:00<?, ?it/s]"
      ]
     },
     "metadata": {},
     "output_type": "display_data"
    },
    {
     "data": {
      "text/html": [
       "<div>\n",
       "<style scoped>\n",
       "    .dataframe tbody tr th:only-of-type {\n",
       "        vertical-align: middle;\n",
       "    }\n",
       "\n",
       "    .dataframe tbody tr th {\n",
       "        vertical-align: top;\n",
       "    }\n",
       "\n",
       "    .dataframe thead th {\n",
       "        text-align: right;\n",
       "    }\n",
       "</style>\n",
       "<table border=\"1\" class=\"dataframe\">\n",
       "  <thead>\n",
       "    <tr style=\"text-align: right;\">\n",
       "      <th></th>\n",
       "      <th>index</th>\n",
       "      <th>n</th>\n",
       "      <th>method</th>\n",
       "      <th>time</th>\n",
       "    </tr>\n",
       "  </thead>\n",
       "  <tbody>\n",
       "    <tr>\n",
       "      <th>0</th>\n",
       "      <td>0</td>\n",
       "      <td>100</td>\n",
       "      <td>Aligator</td>\n",
       "      <td>0.003659</td>\n",
       "    </tr>\n",
       "    <tr>\n",
       "      <th>1</th>\n",
       "      <td>0</td>\n",
       "      <td>100</td>\n",
       "      <td>FW</td>\n",
       "      <td>0.000077</td>\n",
       "    </tr>\n",
       "    <tr>\n",
       "      <th>2</th>\n",
       "      <td>0</td>\n",
       "      <td>100</td>\n",
       "      <td>Waterseeker</td>\n",
       "      <td>0.000155</td>\n",
       "    </tr>\n",
       "    <tr>\n",
       "      <th>3</th>\n",
       "      <td>0</td>\n",
       "      <td>100</td>\n",
       "      <td>Epidemic</td>\n",
       "      <td>0.000082</td>\n",
       "    </tr>\n",
       "    <tr>\n",
       "      <th>4</th>\n",
       "      <td>1</td>\n",
       "      <td>100</td>\n",
       "      <td>Aligator</td>\n",
       "      <td>0.003758</td>\n",
       "    </tr>\n",
       "  </tbody>\n",
       "</table>\n",
       "</div>"
      ],
      "text/plain": [
       "   index    n       method      time\n",
       "0      0  100     Aligator  0.003659\n",
       "1      0  100           FW  0.000077\n",
       "2      0  100  Waterseeker  0.000155\n",
       "3      0  100     Epidemic  0.000082\n",
       "4      1  100     Aligator  0.003758"
      ]
     },
     "execution_count": 19,
     "metadata": {},
     "output_type": "execute_result"
    }
   ],
   "source": [
    "from itertools import product\n",
    "from tqdm.notebook import tqdm\n",
    "\n",
    "B = 100  # number of replications\n",
    "vocab_size = 10000\n",
    "nlist = [100, 250, 500, 750, 1000, 1500, 2000, 2500, 3000, 5000, 7500, 10000]\n",
    "\n",
    "rows = []\n",
    "for n, b in tqdm(list(product(nlist, range(B)))):\n",
    "    pivots = np.random.standard_exponential(size = n)  # (n, )  # generate sample gumbel pivots\n",
    "    random_index = int(np.random.rand() * n/2)\n",
    "    pivots[random_index:(random_index + int(n/6))] += 5  # create some simulated wm segments\n",
    "\n",
    "    # run aligator\n",
    "    d = AligatorCPPDetector(vocab_size)\n",
    "    _, t = d.detect(pivots, null_distn_gumbel)\n",
    "    rows.append({ \"index\": b, \"n\": n, \"method\": \"Aligator\", \"time\": t })\n",
    "\n",
    "    # run fw\n",
    "    d = FixedWindowDetector(vocab_size)\n",
    "    _, t = d.detect(pivots, null_distn_gumbel)\n",
    "    rows.append({ \"index\": b, \"n\": n, \"method\": \"FW\", \"time\": t })\n",
    "\n",
    "    # run waterseeker\n",
    "    d = WaterSeekerDetector(vocab_size)\n",
    "    _, t = d.detect(pivots, null_distn_gumbel)\n",
    "    rows.append({ \"index\": b, \"n\": n, \"method\": \"Waterseeker\", \"time\": t })\n",
    "\n",
    "    # run epidemic\n",
    "    d = EpidemicDetectorV2(vocab_size)\n",
    "    _, t = d.detect(pivots, null_distn_gumbel)\n",
    "    rows.append({ \"index\": b, \"n\": n, \"method\": \"Epidemic\", \"time\": t })\n",
    "\n",
    "\n",
    "timedf = pd.DataFrame(rows)\n",
    "timedf.head()\n"
   ]
  },
  {
   "cell_type": "code",
   "execution_count": 23,
   "id": "8f5d7ea4",
   "metadata": {},
   "outputs": [
    {
     "name": "stdout",
     "output_type": "stream",
     "text": [
      "(4800, 4)\n"
     ]
    },
    {
     "data": {
      "image/png": "[encoded data removed]",
      "text/plain": [
       "<Figure size 1200x700 with 1 Axes>"
      ]
     },
     "metadata": {},
     "output_type": "display_data"
    }
   ],
   "source": [
    "print(timedf.shape)\n",
    "\n",
    "plt.figure(figsize=(12, 7))\n",
    "plot = sns.lineplot(\n",
    "    data=timedf,\n",
    "    x='n',\n",
    "    y='time',\n",
    "    hue='method',\n",
    "    marker='o',\n",
    "    errorbar=('ci', 95) # 'ci' shows the 95% confidence interval\n",
    ")\n",
    "\n",
    "# plot.set_xscale('log')  # plot in log scale\n",
    "plot.set_yscale('log')\n",
    "\n",
    "# plot.set_title('Method Performance vs. Array Size (n)', fontsize=16, weight='bold')\n",
    "plot.set_xlabel('Array Size (n)', fontsize=12)\n",
    "plot.set_ylabel('Time Taken (seconds)', fontsize=12)\n",
    "plt.legend(title='Method', fontsize=10)\n",
    "plt.tight_layout() # Adjust layout to make sure everything fits"
   ]
  },
  {
   "cell_type": "code",
   "execution_count": null,
   "id": "a3ddacd3",
   "metadata": {},
   "outputs": [],
   "source": []
  }
 ],
 "metadata": {
  "kernelspec": {
   "display_name": "Python 3",
   "language": "python",
   "name": "python3"
  },
  "language_info": {
   "codemirror_mode": {
    "name": "ipython",
    "version": 3
   },
   "file_extension": ".py",
   "mimetype": "text/x-python",
   "name": "python",
   "nbconvert_exporter": "python",
   "pygments_lexer": "ipython3",
   "version": "3.13.6"
  }
 },
 "nbformat": 4,
 "nbformat_minor": 5
}
