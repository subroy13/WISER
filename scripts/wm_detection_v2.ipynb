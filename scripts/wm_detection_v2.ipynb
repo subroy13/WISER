{
 "cells": [
  {
   "cell_type": "code",
   "execution_count": 6,
   "id": "5c80bfd6",
   "metadata": {},
   "outputs": [],
   "source": [
    "import numpy as np\n",
    "import pandas as pd\n",
    "import matplotlib.pyplot as plt\n",
    "import seaborn as sns\n",
    "import os\n",
    "import json\n",
    "from tqdm.notebook import tqdm\n",
    "from typing import List, Tuple, Union\n",
    "import time\n",
    "import warnings"
   ]
  },
  {
   "cell_type": "markdown",
   "id": "929b72eb",
   "metadata": {},
   "source": [
    "# Some Utility Functions"
   ]
  },
  {
   "cell_type": "code",
   "execution_count": 2,
   "id": "850b0469",
   "metadata": {},
   "outputs": [
    {
     "data": {
      "text/plain": [
       "['data_princeton-nlp-Sheared-LLaMA-1-3B_n500_synthid.json',\n",
       " 'data_google-gemma-3-270m_n200_gumbel.json',\n",
       " 'data_facebook-opt-1-3b_n500_pf.json',\n",
       " 'data_facebook-opt-125m_n500_inverse.json',\n",
       " 'data_google-gemma-3-270m_n500_gumbel.json',\n",
       " 'data_facebook-opt-1-3b_n500_unwatermarked.json',\n",
       " 'data_mistralai-Mistral-7B-v0-1_n500_pf.json',\n",
       " 'data_google-gemma-3-270m_n500_inverse.json',\n",
       " 'data_meta-llama-Meta-Llama-3-8B_n500_gumbel.json',\n",
       " 'data_facebook-opt-1-3b_n500_redgreen.json',\n",
       " 'data_google-gemma-3-270m_n500_redgreen.json',\n",
       " 'data_facebook-opt-1-3b_n500_synthid.json',\n",
       " 'data_meta-llama-Meta-Llama-3-8B_n500_pf.json',\n",
       " 'data_princeton-nlp-Sheared-LLaMA-1-3B_n500_pf.json',\n",
       " 'data_facebook-opt-125m_n500_unwatermarked.json',\n",
       " 'data_princeton-nlp-Sheared-LLaMA-1-3B_n500_gumbel.json',\n",
       " 'data_google-gemma-3-270m_n501_gumbel.json',\n",
       " 'data_mistralai-Mistral-7B-v0-1_n500_redgreen.json',\n",
       " 'data_mistralai-Mistral-7B-v0-1_n500_gumbel.json',\n",
       " 'data_facebook-opt-1-3b_n500_inverse.json',\n",
       " 'data_mistralai-Mistral-7B-v0-1_n500_inverse.json',\n",
       " 'data_princeton-nlp-Sheared-LLaMA-1-3B_n500_unwatermarked.json',\n",
       " 'data_google-gemma-3-270m_n500_pf.json',\n",
       " 'data_facebook-opt-125m_n500_gumbel.json',\n",
       " 'data_facebook-opt-125m_n100_gumbel.json',\n",
       " 'data_facebook-opt-125m_n500_redgreen.json',\n",
       " 'data_facebook-opt-1-3b_n500_gumbel.json',\n",
       " 'data_princeton-nlp-Sheared-LLaMA-1-3B_n500_inverse.json',\n",
       " 'data_meta-llama-Meta-Llama-3-8B_n500_inverse.json',\n",
       " 'data_facebook-opt-125m_n500_pf.json',\n",
       " 'data_princeton-nlp-Sheared-LLaMA-1-3B_n500_redgreen.json',\n",
       " 'data_meta-llama-Meta-Llama-3-8B_n500_redgreen.json',\n",
       " 'data_facebook-opt-125m_n500_synthid.json',\n",
       " 'data_facebook-opt-125m_n200_gumbel.json']"
      ]
     },
     "execution_count": 2,
     "metadata": {},
     "output_type": "execute_result"
    }
   ],
   "source": [
    "def read_json(fpath: str):\n",
    "    with open(fpath, \"r\") as f:\n",
    "        data = json.load(f)\n",
    "        f.close()\n",
    "    return data\n",
    "\n",
    "root_output_path = \"../data/output\"\n",
    "file_list = [fname for fname in os.listdir(root_output_path) if fname.endswith(\".json\")]\n",
    "file_list"
   ]
  },
  {
   "cell_type": "code",
   "execution_count": 3,
   "id": "21fc98f2",
   "metadata": {},
   "outputs": [],
   "source": [
    "# IOU is the typical metric that is tracked in these scenarios\n",
    "def get_iou(intervalsA: List[Tuple[int, int]], intervalsB: List[Tuple[int, int]]):\n",
    "  coordsA = set([x for start, end in intervalsA for x in range(start, end)])\n",
    "  coordsB = set([x for start, end in intervalsB for x in range(start, end)])\n",
    "  num = len(coordsA.intersection(coordsB))\n",
    "  denom = len(coordsA.union(coordsB))\n",
    "  return (num / denom)\n",
    "\n",
    "def get_hit_counts(true_intervals: List[Tuple[int, int]], estimated_intervals: List[Tuple[int, int]]):\n",
    "  # count how many of the true intervals we have nonzero IOU\n",
    "  hit_count = 0\n",
    "  est_intervals = estimated_intervals.copy()\n",
    "  for true_int in true_intervals:\n",
    "    max_iou = 0\n",
    "    max_index = None\n",
    "    for j in range(len(est_intervals)):\n",
    "      iou = get_iou([true_int], [est_intervals[j]])\n",
    "      if iou > 0 and iou > max_iou:\n",
    "        max_iou = iou\n",
    "        max_index = j\n",
    "    \n",
    "    if max_iou > 0 and max_index is not None:\n",
    "      hit_count += 1\n",
    "      est_intervals.pop(max_index)\n",
    "\n",
    "  return hit_count\n",
    "\n",
    "def get_rand_index(intervalsA: List[Tuple[int, int]], intervalsB: List[Tuple[int, int]], n: int):\n",
    "  # convert interval endpoints to sorted changepoints for fast computation\n",
    "  # reference: https://arxiv.org/pdf/2112.03738\n",
    "  cpA = sorted([0, n] + [x for interval in intervalsA for x in interval])\n",
    "  cpB = sorted([0, n] + [x for interval in intervalsB for x in interval])\n",
    "  num = 0\n",
    "  for i in range(len(cpA) - 1):\n",
    "    for j in range(len(cpB) - 1):\n",
    "      nij = max(0, min(cpA[i+1], cpB[j+1]) - max(cpA[i], cpB[j]))\n",
    "      num += (nij * abs(cpA[i+1] - cpB[j+1]))\n",
    "  return 1 - 2 * num / (n*(n-1))\n",
    "\n",
    "\n",
    "# metric to find the symmetric differences\n",
    "def get_symmetric_difference(intA, intB):\n",
    "  sA, eA = intA\n",
    "  sB, eB = intB\n",
    "  return abs(sA - sB) + abs(eA - eB)"
   ]
  },
  {
   "cell_type": "code",
   "execution_count": 4,
   "id": "58216809",
   "metadata": {},
   "outputs": [],
   "source": [
    "# get summary of detection methods applied for a specific data\n",
    "def get_summarized_results(data, get_interval_func, add_plot = False, verbose = True):\n",
    "    metrics_list = []\n",
    "    interval_endpoints = []\n",
    "    true_intervals =  [\n",
    "        (start, end) for (start, end, interval_type) in data['configuration']['intervals'] if interval_type != 'unwatermarked'\n",
    "    ]\n",
    "\n",
    "    n = 0\n",
    "    for sample_index, sample_data in tqdm(list(enumerate(data[\"data\"]))):\n",
    "        pivots = sample_data[\"pivots\"]\n",
    "        n = max(n, len(pivots))\n",
    "        pivots = np.array(pivots)\n",
    "        pivots[np.isinf(pivots)] = pivots[~np.isinf(pivots)].max() # replace by maximum for infinite values\n",
    "        est_intervals, time_taken = get_interval_func(pivots)\n",
    "        \n",
    "        # add detected endpoints to array\n",
    "        for left_end, right_end in est_intervals:\n",
    "            interval_endpoints.append(left_end)\n",
    "            interval_endpoints.append(right_end)\n",
    "\n",
    "        # calculate metrics\n",
    "        hit_count = get_hit_counts(true_intervals, est_intervals)\n",
    "        metric_row = {\n",
    "            \"sample_index\": sample_index,\n",
    "            \"detected_intervals_count\": len(est_intervals),\n",
    "            \"iou\": get_iou(est_intervals, true_intervals),\n",
    "            \"recall\": hit_count / max(len(true_intervals), 1),  # Recall\n",
    "            \"precision\": hit_count / max(len(est_intervals), 1),  # Precision\n",
    "            \"rand_index\": get_rand_index(true_intervals, est_intervals, n),\n",
    "            \"time\": time_taken\n",
    "        }\n",
    "        metrics_list.append(metric_row)\n",
    "\n",
    "    metric_df = pd.DataFrame(metrics_list)\n",
    "    # metric_df['f1'] = 2 * metric_df['precision'] * metric_df['recall'] / (metric_df['precision'] + metric_df['recall'])\n",
    "    f1 = 2 * metric_df['precision'].mean() * metric_df['recall'].mean() / (metric_df['precision'].mean() + metric_df['recall'].mean())\n",
    "\n",
    "    return {\n",
    "        \"model_name\": data['configuration']['model_name'],\n",
    "        \"iou\": metric_df['iou'].mean(),\n",
    "        \"precision\": metric_df['precision'].mean(),\n",
    "        \"recall\": metric_df['recall'].mean(),\n",
    "        \"f1\": f1,\n",
    "        \"rand_index\": metric_df['rand_index'].mean()\n",
    "    }\n",
    "\n",
    "    # if verbose:\n",
    "    #     # print the description of the setup\n",
    "    #     print(f\"Model name: {data['configuration']['model_name']}\")\n",
    "    #     print(f\"Output tokens: {data['configuration']['out_tokens']}\")\n",
    "    #     print(f\"Vocab size: {data['configuration']['vocab_size']}\")\n",
    "    #     print(f\"Segment types: {', '.join([interval_type for start, end, interval_type in data['configuration']['intervals']])}\\n\")\n",
    "\n",
    "    #     # Summary 1: Frequency table of # of detected intervals\n",
    "    #     frequency_table = metric_df['detected_intervals_count'].value_counts().reset_index()\n",
    "    #     frequency_table.columns = ['value', 'frequency']\n",
    "    #     frequency_table['proportion'] = frequency_table['frequency'] / frequency_table['frequency'].sum()\n",
    "    #     print(f\"Frequency Table of Detected Intervals: \\n{frequency_table.sort_values(by = \"frequency\", ascending=False).head(5)}\")\n",
    "\n",
    "    #     # Summary 2: Describe the scores\n",
    "    #     print(f\"\\nAdditional Metrics: \\nMean IOU: {metric_df['iou'].mean()}\\nMean Time Taken: {metric_df['time'].mean()}\")\n",
    "\n",
    "    # # draw a histogram of detected intervals endpoints\n",
    "    # if add_plot:\n",
    "    #     plt.figure(figsize=(10, 6))\n",
    "    #     h = sns.histplot(\n",
    "    #         data=pd.DataFrame({'endpoints': interval_endpoints}),\n",
    "    #         x='endpoints',\n",
    "    #         binwidth=n/100\n",
    "    #     )\n",
    "    #     plt.vlines(\n",
    "    #         x=[int(a) for x in true_intervals for a in x],\n",
    "    #         ymin=h.get_ylim()[0],\n",
    "    #         ymax = h.get_ylim()[1],\n",
    "    #         colors=\"red\"\n",
    "    #     )\n",
    "    #     plt.title('Histogram of Detected Endpoints')\n",
    "    #     plt.xlim(0, n)\n",
    "    #     plt.grid(True)\n",
    "    #     plt.tight_layout()\n",
    "    #     plt.show()\n",
    "\n",
    "    # return {\n",
    "    #     \"model_name\": data['configuration']['model_name'],\n",
    "    #     \"iou\": metric_df['iou'].mean(),\n",
    "    #     \"time\": metric_df['time'].mean() * 1000\n",
    "    # }"
   ]
  },
  {
   "cell_type": "markdown",
   "id": "cded38dd",
   "metadata": {},
   "source": [
    "# Calculate Metrics"
   ]
  },
  {
   "cell_type": "code",
   "execution_count": 11,
   "id": "fd660005",
   "metadata": {},
   "outputs": [],
   "source": [
    "from detections import EpidemicDetectorV3, AligatorCPPDetector, WinMaxDetector, FixedWindowDetector, WaterSeekerDetector, SeedBSNOTDetectorCPP\n",
    "from watermarking_func import null_distn_gumbel, null_distn_inverse, null_distn_redgreen, null_distn_synthid, null_distn_pf"
   ]
  },
  {
   "cell_type": "code",
   "execution_count": 21,
   "id": "6be21fdb",
   "metadata": {},
   "outputs": [],
   "source": [
    "# best block sizes for epidemic\n",
    "# block_size = 65, c = 1\n",
    "\n",
    "null_dist_list = {\n",
    "    \"gumbel\": null_distn_gumbel,\n",
    "    \"inverse\": null_distn_inverse,\n",
    "    \"redgreen\": null_distn_redgreen,\n",
    "    \"pf\": null_distn_pf\n",
    "}\n",
    "\n",
    "model_list = [\n",
    "    \"data_facebook-opt-125m_n500\",\n",
    "    \"data_google-gemma-3-270m_n500\",\n",
    "    \"data_facebook-opt-1-3b_n500\",\n",
    "    \"data_princeton-nlp-Sheared-LLaMA-1-3B_n500\",\n",
    "    \"data_mistralai-Mistral-7B-v0-1_n500\",\n",
    "    \"data_meta-llama-Meta-Llama-3-8B_n500\"\n",
    "]\n",
    "watermark_method = \"pf\"\n",
    "null_distn = null_dist_list[watermark_method]\n"
   ]
  },
  {
   "cell_type": "code",
   "execution_count": 22,
   "id": "50dcf80b",
   "metadata": {},
   "outputs": [
    {
     "name": "stdout",
     "output_type": "stream",
     "text": [
      "\n",
      "\n",
      "Loaded file data_facebook-opt-125m_n500_pf.json with model facebook/opt-125m and vocab size 50272\n",
      "\n"
     ]
    },
    {
     "data": {
      "application/vnd.jupyter.widget-view+json": {
       "model_id": "78bc0b205eff4b7697ce59dca4ffe06c",
       "version_major": 2,
       "version_minor": 0
      },
      "text/plain": [
       "  0%|          | 0/200 [00:00<?, ?it/s]"
      ]
     },
     "metadata": {},
     "output_type": "display_data"
    },
    {
     "name": "stdout",
     "output_type": "stream",
     "text": [
      "\n",
      "\n",
      "Loaded file data_google-gemma-3-270m_n500_pf.json with model google/gemma-3-270m and vocab size 262144\n",
      "\n"
     ]
    },
    {
     "data": {
      "application/vnd.jupyter.widget-view+json": {
       "model_id": "3d6efe497505412087e0bb963798282d",
       "version_major": 2,
       "version_minor": 0
      },
      "text/plain": [
       "  0%|          | 0/200 [00:00<?, ?it/s]"
      ]
     },
     "metadata": {},
     "output_type": "display_data"
    },
    {
     "name": "stdout",
     "output_type": "stream",
     "text": [
      "\n",
      "\n",
      "Loaded file data_facebook-opt-1-3b_n500_pf.json with model facebook/opt-1.3b and vocab size 50272\n",
      "\n"
     ]
    },
    {
     "data": {
      "application/vnd.jupyter.widget-view+json": {
       "model_id": "dcb8cfbb7f8c487a8b5d1bb853ee7dd1",
       "version_major": 2,
       "version_minor": 0
      },
      "text/plain": [
       "  0%|          | 0/200 [00:00<?, ?it/s]"
      ]
     },
     "metadata": {},
     "output_type": "display_data"
    },
    {
     "name": "stdout",
     "output_type": "stream",
     "text": [
      "\n",
      "\n",
      "Loaded file data_princeton-nlp-Sheared-LLaMA-1-3B_n500_pf.json with model princeton-nlp/Sheared-LLaMA-1.3B and vocab size 32000\n",
      "\n"
     ]
    },
    {
     "data": {
      "application/vnd.jupyter.widget-view+json": {
       "model_id": "e8e0715fa2964538a66f59636d966605",
       "version_major": 2,
       "version_minor": 0
      },
      "text/plain": [
       "  0%|          | 0/200 [00:00<?, ?it/s]"
      ]
     },
     "metadata": {},
     "output_type": "display_data"
    },
    {
     "name": "stdout",
     "output_type": "stream",
     "text": [
      "\n",
      "\n",
      "Loaded file data_mistralai-Mistral-7B-v0-1_n500_pf.json with model mistralai/Mistral-7B-v0.1 and vocab size 32000\n",
      "\n"
     ]
    },
    {
     "data": {
      "application/vnd.jupyter.widget-view+json": {
       "model_id": "2bd6adde318a493c9d49231bbe1f91ce",
       "version_major": 2,
       "version_minor": 0
      },
      "text/plain": [
       "  0%|          | 0/200 [00:00<?, ?it/s]"
      ]
     },
     "metadata": {},
     "output_type": "display_data"
    },
    {
     "name": "stdout",
     "output_type": "stream",
     "text": [
      "\n",
      "\n",
      "Loaded file data_meta-llama-Meta-Llama-3-8B_n500_pf.json with model meta-llama/Meta-Llama-3-8B and vocab size 128256\n",
      "\n"
     ]
    },
    {
     "data": {
      "application/vnd.jupyter.widget-view+json": {
       "model_id": "05f2348dce1e4710aae43f78dea5f35a",
       "version_major": 2,
       "version_minor": 0
      },
      "text/plain": [
       "  0%|          | 0/200 [00:00<?, ?it/s]"
      ]
     },
     "metadata": {},
     "output_type": "display_data"
    }
   ],
   "source": [
    "outputs = []\n",
    "for fmodel in model_list:\n",
    "    fname = f\"{fmodel}_{watermark_method}.json\"\n",
    "    data = read_json(os.path.join(root_output_path, fname))\n",
    "    vocab_size = data['configuration']['vocab_size']\n",
    "    model_name = data['configuration']['model_name']\n",
    "    print(f\"\\n\\nLoaded file {fname} with model {model_name} and vocab size {vocab_size}\\n\")\n",
    "\n",
    "    # # Run epidemic\n",
    "    # def get_epidemic_intervals(x):\n",
    "    #     d = EpidemicDetectorV3(vocab_size)\n",
    "    #     return d.detect(x, null_distn=null_distn, block_size=65, c = 1) \n",
    "    \n",
    "    # res = get_summarized_results(data, get_epidemic_intervals, verbose=False)\n",
    "    # res['method'] = \"Epidemic\"\n",
    "    # res['model_name'] = model_name\n",
    "    # res['vocab_size'] = vocab_size\n",
    "    # outputs.append(res)\n",
    "\n",
    "\n",
    "    # # Run aligator\n",
    "    # def get_aligator_intervals(x):\n",
    "    #     d = AligatorCPPDetector(vocab_size)\n",
    "    #     return d.detect(np.array(x), null_distn)\n",
    "        \n",
    "    # res = get_summarized_results(data, get_aligator_intervals, verbose=False)\n",
    "    # res['method'] = \"Aligator\"\n",
    "    # res['model_name'] = model_name\n",
    "    # res['vocab_size'] = vocab_size\n",
    "    # outputs.append(res)\n",
    "\n",
    "    # Run seedbs\n",
    "    def get_seedbs_intervals(x):\n",
    "        with warnings.catch_warnings():\n",
    "            warnings.simplefilter(\"ignore\")\n",
    "            d = SeedBSNOTDetectorCPP(vocab_size, n_jobs=1)\n",
    "            return d.detect(x, null_distn)\n",
    "    res = get_summarized_results(data, get_seedbs_intervals, verbose=False)\n",
    "    res['method'] = \"SeedBS_NOT\"\n",
    "    res['model_name'] = model_name\n",
    "    res['vocab_size'] = vocab_size\n",
    "    outputs.append(res)\n",
    "\n",
    "    # # Run fixed width\n",
    "    # def get_fixedwidth_intervals(x):\n",
    "    #     d = FixedWindowDetector(vocab_size)\n",
    "    #     return d.detect(x, null_distn)\n",
    "    # res = get_summarized_results(data, get_fixedwidth_intervals, verbose=False)\n",
    "    # res['method'] = \"FW\"\n",
    "    # res['model_name'] = model_name\n",
    "    # res['vocab_size'] = vocab_size\n",
    "    # outputs.append(res)\n",
    "    \n",
    "    # # Run waterseeker\n",
    "    # def get_seek_intervals(x):\n",
    "    #     d = WaterSeekerDetector(vocab_size)\n",
    "    #     return d.detect(x, null_distn)\n",
    "    # res = get_summarized_results(data, get_seek_intervals, verbose=False)\n",
    "    # res['method'] = \"Waterseeker\"\n",
    "    # res['model_name'] = model_name\n",
    "    # res['vocab_size'] = vocab_size\n",
    "    # outputs.append(res)\n",
    "\n",
    "\n",
    "output_df = pd.DataFrame(outputs)\n",
    "\n",
    "# output_df = output_df[['model_name', 'vocab_size', 'method', 'iou', 'precision', 'recall', 'f1']].round(3)\n",
    "# output_df"
   ]
  },
  {
   "cell_type": "code",
   "execution_count": 23,
   "id": "fb14b702",
   "metadata": {},
   "outputs": [
    {
     "name": "stdout",
     "output_type": "stream",
     "text": [
      "\\begin{tabular}{lrlrrrrr}\n",
      "\\toprule\n",
      "model_name & vocab_size & method & iou & precision & recall & f1 & rand_index \\\\\n",
      "\\midrule\n",
      "facebook/opt-125m & 50272 & SeedBS_NOT & 0.469 & 0.725 & 0.560 & 0.632 & 0.867 \\\\\n",
      "google/gemma-3-270m & 262144 & SeedBS_NOT & 0.334 & 0.610 & 0.440 & 0.511 & 0.766 \\\\\n",
      "facebook/opt-1.3b & 50272 & SeedBS_NOT & 0.350 & 0.573 & 0.430 & 0.491 & 0.753 \\\\\n",
      "princeton-nlp/Sheared-LLaMA-1.3B & 32000 & SeedBS_NOT & 0.264 & 0.486 & 0.350 & 0.407 & 0.688 \\\\\n",
      "mistralai/Mistral-7B-v0.1 & 32000 & SeedBS_NOT & 0.238 & 0.468 & 0.315 & 0.376 & 0.650 \\\\\n",
      "meta-llama/Meta-Llama-3-8B & 128256 & SeedBS_NOT & 0.413 & 0.658 & 0.545 & 0.596 & 0.798 \\\\\n",
      "\\bottomrule\n",
      "\\end{tabular}\n",
      "\n"
     ]
    }
   ],
   "source": [
    "output_df = output_df[['model_name', 'vocab_size', 'method', 'iou', 'precision', 'recall', 'f1', 'rand_index']].round(3)\n",
    "\n",
    "# output_df\n",
    "print(output_df.to_latex(index=False, float_format=\"%.3f\"))"
   ]
  },
  {
   "cell_type": "code",
   "execution_count": null,
   "id": "2882c26d",
   "metadata": {},
   "outputs": [],
   "source": []
  },
  {
   "cell_type": "markdown",
   "id": "530f7c52",
   "metadata": {},
   "source": [
    "# Watermark Detection Speed Comparison"
   ]
  },
  {
   "cell_type": "code",
   "execution_count": 7,
   "id": "6c70c1ae",
   "metadata": {},
   "outputs": [],
   "source": [
    "from detections import AligatorCPPDetector, FixedWindowDetector, WaterSeekerDetector, EpidemicDetectorV3, SeedBSNOTDetectorCPP\n",
    "from watermarking_func import null_distn_gumbel, null_distn_inverse, null_distn_redgreen, null_distn_pf"
   ]
  },
  {
   "cell_type": "code",
   "execution_count": 8,
   "id": "6513d493",
   "metadata": {},
   "outputs": [
    {
     "data": {
      "application/vnd.jupyter.widget-view+json": {
       "model_id": "7e56d54b323a4cae9c200d926056f639",
       "version_major": 2,
       "version_minor": 0
      },
      "text/plain": [
       "  0%|          | 0/600 [00:00<?, ?it/s]"
      ]
     },
     "metadata": {},
     "output_type": "display_data"
    },
    {
     "data": {
      "text/html": [
       "<div>\n",
       "<style scoped>\n",
       "    .dataframe tbody tr th:only-of-type {\n",
       "        vertical-align: middle;\n",
       "    }\n",
       "\n",
       "    .dataframe tbody tr th {\n",
       "        vertical-align: top;\n",
       "    }\n",
       "\n",
       "    .dataframe thead th {\n",
       "        text-align: right;\n",
       "    }\n",
       "</style>\n",
       "<table border=\"1\" class=\"dataframe\">\n",
       "  <thead>\n",
       "    <tr style=\"text-align: right;\">\n",
       "      <th></th>\n",
       "      <th>index</th>\n",
       "      <th>n</th>\n",
       "      <th>method</th>\n",
       "      <th>time</th>\n",
       "    </tr>\n",
       "  </thead>\n",
       "  <tbody>\n",
       "    <tr>\n",
       "      <th>0</th>\n",
       "      <td>0</td>\n",
       "      <td>100</td>\n",
       "      <td>Aligator</td>\n",
       "      <td>0.003284</td>\n",
       "    </tr>\n",
       "    <tr>\n",
       "      <th>1</th>\n",
       "      <td>0</td>\n",
       "      <td>100</td>\n",
       "      <td>SeedBS-NOT</td>\n",
       "      <td>0.002936</td>\n",
       "    </tr>\n",
       "    <tr>\n",
       "      <th>2</th>\n",
       "      <td>0</td>\n",
       "      <td>100</td>\n",
       "      <td>Waterseeker</td>\n",
       "      <td>0.000167</td>\n",
       "    </tr>\n",
       "    <tr>\n",
       "      <th>3</th>\n",
       "      <td>0</td>\n",
       "      <td>100</td>\n",
       "      <td>WISER</td>\n",
       "      <td>0.000149</td>\n",
       "    </tr>\n",
       "    <tr>\n",
       "      <th>4</th>\n",
       "      <td>1</td>\n",
       "      <td>100</td>\n",
       "      <td>Aligator</td>\n",
       "      <td>0.004428</td>\n",
       "    </tr>\n",
       "  </tbody>\n",
       "</table>\n",
       "</div>"
      ],
      "text/plain": [
       "   index    n       method      time\n",
       "0      0  100     Aligator  0.003284\n",
       "1      0  100   SeedBS-NOT  0.002936\n",
       "2      0  100  Waterseeker  0.000167\n",
       "3      0  100        WISER  0.000149\n",
       "4      1  100     Aligator  0.004428"
      ]
     },
     "execution_count": 8,
     "metadata": {},
     "output_type": "execute_result"
    }
   ],
   "source": [
    "from itertools import product\n",
    "from p_tqdm import p_map\n",
    "\n",
    "B = 50  # number of replications\n",
    "vocab_size = 10000\n",
    "nlist = [100, 250, 500, 750, 1000, 1500, 2000, 2500, 3000, 5000, 7500, 10000]\n",
    "\n",
    "def run_calculation(input):\n",
    "    rows = []\n",
    "    n, b = input\n",
    "    pivots = np.random.standard_exponential(size = n)  # (n, )  # generate sample gumbel pivots\n",
    "    random_index = int(np.random.rand() * n/2)\n",
    "    pivots[random_index:(random_index + int(n/6))] += 5  # create some simulated wm segments\n",
    "\n",
    "    # run aligator\n",
    "    d = AligatorCPPDetector(vocab_size)\n",
    "    _, t = d.detect(pivots, null_distn_gumbel)\n",
    "    rows.append({ \"index\": b, \"n\": n, \"method\": \"Aligator\", \"time\": t })\n",
    "\n",
    "    # # run fw\n",
    "    # d = FixedWindowDetector(vocab_size)\n",
    "    # _, t = d.detect(pivots, null_distn_gumbel)\n",
    "    # rows.append({ \"index\": b, \"n\": n, \"method\": \"FW\", \"time\": t })\n",
    "\n",
    "    # # run seedbs\n",
    "    d = SeedBSNOTDetectorCPP(vocab_size)\n",
    "    _, t = d.detect(pivots, null_distn_gumbel)\n",
    "    rows.append({ \"index\": b, \"n\": n, \"method\": \"SeedBS-NOT\", \"time\": t })\n",
    "\n",
    "    # run waterseeker\n",
    "    d = WaterSeekerDetector(vocab_size)\n",
    "    _, t = d.detect(pivots, null_distn_gumbel)\n",
    "    rows.append({ \"index\": b, \"n\": n, \"method\": \"Waterseeker\", \"time\": t })\n",
    "\n",
    "    # run epidemic\n",
    "    d = EpidemicDetectorV3(vocab_size)\n",
    "    _, t = d.detect(pivots, null_distn_gumbel)\n",
    "    rows.append({ \"index\": b, \"n\": n, \"method\": \"WISER\", \"time\": t })\n",
    "\n",
    "    return rows\n",
    "\n",
    "parallel_rows = p_map(\n",
    "    run_calculation,\n",
    "    list(product(nlist, range(B))),\n",
    "    num_cpus = 8\n",
    ")\n",
    "\n",
    "output_rows = [row for rows in parallel_rows for row in rows]\n",
    "timedf = pd.DataFrame(output_rows)\n",
    "timedf.head()"
   ]
  },
  {
   "cell_type": "code",
   "execution_count": 16,
   "id": "8f5d7ea4",
   "metadata": {},
   "outputs": [
    {
     "name": "stdout",
     "output_type": "stream",
     "text": [
      "(2400, 4)\n"
     ]
    },
    {
     "data": {
      "image/png": "[encoded data removed]",
      "text/plain": [
       "<Figure size 1200x700 with 1 Axes>"
      ]
     },
     "metadata": {},
     "output_type": "display_data"
    }
   ],
   "source": [
    "print(timedf.shape)\n",
    "\n",
    "plt.figure(figsize=(12, 7))\n",
    "plot = sns.lineplot(\n",
    "    data=timedf,\n",
    "    x='n',\n",
    "    y='time',\n",
    "    hue='method',\n",
    "    marker='o',\n",
    "    errorbar=('pi', 95)\n",
    ")\n",
    "\n",
    "# plot.set_xscale('log')  # plot in log scale\n",
    "plot.set_yscale('log')\n",
    "\n",
    "# plot.set_title('Method Performance vs. Array Size (n)', fontsize=16, weight='bold')\n",
    "plot.set_xlabel('Array Size (n)', fontsize=12)\n",
    "plot.set_ylabel('Time Taken (seconds)', fontsize=12)\n",
    "plt.legend(title='Method', fontsize=10)\n",
    "plt.tight_layout() # Adjust layout to make sure everything fits"
   ]
  },
  {
   "cell_type": "code",
   "execution_count": null,
   "id": "a3ddacd3",
   "metadata": {},
   "outputs": [],
   "source": []
  },
  {
   "cell_type": "markdown",
   "id": "9fd2ffca",
   "metadata": {},
   "source": [
    "# Ablation Study"
   ]
  },
  {
   "cell_type": "code",
   "execution_count": 29,
   "id": "387bbdc3",
   "metadata": {},
   "outputs": [
    {
     "data": {
      "text/plain": [
       "{'model_name': 'google/gemma-3-270m',\n",
       " 'intervals': [[0, 100, 'unwatermarked'],\n",
       "  [100, 200, 'gumbel'],\n",
       "  [200, 501, 'unwatermarked']],\n",
       " 'prompt_tokens': 50,\n",
       " 'out_tokens': 501,\n",
       " 'vocab_size': 262144,\n",
       " 'initial_seed': 1234,\n",
       " 'max_token_input_length': 256}"
      ]
     },
     "execution_count": 29,
     "metadata": {},
     "output_type": "execute_result"
    }
   ],
   "source": [
    "# run the Section 1. Some Utility Functions first\n",
    "\n",
    "fname = \"data_google-gemma-3-270m_n501_gumbel.json\"\n",
    "# fname = \"data_facebook-opt-125m_n200_gumbel.json\"\n",
    "data = read_json(os.path.join(root_output_path, fname))\n",
    "\n",
    "true_intervals =  [(start, end) for (start, end, interval_type) in data['configuration']['intervals'] if interval_type != 'unwatermarked']\n",
    "vocab_size = data['configuration']['vocab_size']\n",
    "\n",
    "data['configuration']"
   ]
  },
  {
   "cell_type": "code",
   "execution_count": 37,
   "id": "1aac8c5b",
   "metadata": {},
   "outputs": [
    {
     "data": {
      "application/vnd.jupyter.widget-view+json": {
       "model_id": "995827bec0c34f978a8e765e17fb5be3",
       "version_major": 2,
       "version_minor": 0
      },
      "text/plain": [
       "  0%|          | 0/1600 [00:00<?, ?it/s]"
      ]
     },
     "metadata": {},
     "output_type": "display_data"
    },
    {
     "data": {
      "text/plain": [
       "(1600, 4)"
      ]
     },
     "execution_count": 37,
     "metadata": {},
     "output_type": "execute_result"
    }
   ],
   "source": [
    "# run for different block_sizes, and measure the IOU metrics\n",
    "from itertools import product\n",
    "from detections import EpidemicDetectorV3\n",
    "from watermarking_func import null_distn_gumbel\n",
    "\n",
    "\n",
    "block_sizes = [5, 10, 25, 50, 75, 125, 175, 250]\n",
    "\n",
    "rows = []\n",
    "for i, block_size in tqdm(list(product(range(len(data['data'])), block_sizes))):\n",
    "    pivots = np.array(data['data'][i]['pivots'])\n",
    "    pivots[np.isinf(pivots)] = pivots[~np.isinf(pivots)].max() # replace by maximum for infinite values\n",
    "\n",
    "    # perform detection\n",
    "    d = EpidemicDetectorV3(vocab_size, rho = 0.25)\n",
    "    est_intervals, time_taken = d.detect(pivots, null_distn_gumbel, block_size=block_size)\n",
    "    \n",
    "    rows.append({\n",
    "        \"sample_index\": i,\n",
    "        \"block_size\": block_size,\n",
    "        \"iou\": get_iou(est_intervals, true_intervals),\n",
    "        \"rand_index\": get_rand_index(est_intervals, true_intervals, pivots.shape[0])\n",
    "    })\n",
    "\n",
    "# convert to dataframe\n",
    "blocks_df = pd.DataFrame(rows)\n",
    "blocks_df.shape"
   ]
  },
  {
   "cell_type": "code",
   "execution_count": 38,
   "id": "d281c8e3",
   "metadata": {},
   "outputs": [
    {
     "name": "stderr",
     "output_type": "stream",
     "text": [
      "/var/folders/v9/p596rfjn6f5cxry5bh_b_0cw0000gn/T/ipykernel_2020/3206806878.py:15: UserWarning: The palette list has more values (8) than needed (2), which may not be intended.\n",
      "  ax = sns.boxplot(data=long_df, x=\"block_size\", y=\"Score\", hue=\"Metric\", palette=palette, width=0.6, fliersize=2)\n"
     ]
    },
    {
     "data": {
      "image/png": "[encoded data removed]",
      "text/plain": [
       "<Figure size 1200x600 with 1 Axes>"
      ]
     },
     "metadata": {},
     "output_type": "display_data"
    }
   ],
   "source": [
    "# make a plot for the ablation study\n",
    "\n",
    "long_df = blocks_df.melt(\n",
    "    id_vars=[\"sample_index\", \"block_size\"],\n",
    "    value_vars=[\"iou\", \"rand_index\"],\n",
    "    var_name=\"Metric\",\n",
    "    value_name=\"Score\"\n",
    ")\n",
    "\n",
    "# set style\n",
    "sns.set_theme(style=\"whitegrid\")\n",
    "palette = sns.color_palette(\"Set2\")  # custom color palette (colorblind friendly)\n",
    "\n",
    "plt.figure(figsize=(12, 6))\n",
    "ax = sns.boxplot(data=long_df, x=\"block_size\", y=\"Score\", hue=\"Metric\", palette=palette, width=0.6, fliersize=2)\n",
    "\n",
    "# ax.set_title(\"Ablation Study: Effect of Block Size on Detection Performance\", fontsize=18, pad=20)\n",
    "ax.set_xlabel(\"Block Size\", fontsize=14)\n",
    "ax.set_ylabel(\"Performance Score\", fontsize=14)\n",
    "# ax.set_xticklabels(ax.get_xticklabels(), rotation=45)  # rotate x labels if needed\n",
    "# handles, labels = ax.get_legend_handles_labels() # improve legend\n",
    "# ax.legend(handles[:2], labels[:2], title=\"Metric\", loc=\"upper center\", bbox_to_anchor=(0.5, -0.2), ncol=2, frameon=False)\n",
    "\n",
    "plt.tight_layout()\n",
    "plt.show()"
   ]
  },
  {
   "cell_type": "code",
   "execution_count": 47,
   "id": "04b4df77",
   "metadata": {},
   "outputs": [
    {
     "data": {
      "application/vnd.jupyter.widget-view+json": {
       "model_id": "412fb179ae1a45c190fee4b09e6d5faa",
       "version_major": 2,
       "version_minor": 0
      },
      "text/plain": [
       "  0%|          | 0/1800 [00:00<?, ?it/s]"
      ]
     },
     "metadata": {},
     "output_type": "display_data"
    },
    {
     "name": "stdout",
     "output_type": "stream",
     "text": [
      "(1800, 4)\n"
     ]
    }
   ],
   "source": [
    "# same ablation study but for different values of rho\n",
    "from itertools import product\n",
    "from detections import EpidemicDetectorV3\n",
    "from watermarking_func import null_distn_gumbel\n",
    "\n",
    "\n",
    "rho_vals = np.arange(0.1, 1, step=0.1)\n",
    "\n",
    "rows = []\n",
    "for i, rho in tqdm(list(product(range(len(data['data'])), rho_vals))):\n",
    "    pivots = np.array(data['data'][i]['pivots'])\n",
    "    pivots[np.isinf(pivots)] = pivots[~np.isinf(pivots)].max() # replace by maximum for infinite values\n",
    "\n",
    "    # perform detection\n",
    "    d = EpidemicDetectorV3(vocab_size, rho = round(float(rho), 3))\n",
    "    est_intervals, time_taken = d.detect(pivots, null_distn_gumbel, block_size=50)  # keep block_size fixed\n",
    "    \n",
    "    rows.append({\n",
    "        \"sample_index\": i,\n",
    "        \"rho\": rho,\n",
    "        \"iou\": get_iou(est_intervals, true_intervals),\n",
    "        \"rand_index\": get_rand_index(est_intervals, true_intervals, pivots.shape[0])\n",
    "    })\n",
    "\n",
    "# convert to dataframe\n",
    "rho_df = pd.DataFrame(rows)\n",
    "print(rho_df.shape)"
   ]
  },
  {
   "cell_type": "code",
   "execution_count": 48,
   "id": "b7681093",
   "metadata": {},
   "outputs": [
    {
     "name": "stderr",
     "output_type": "stream",
     "text": [
      "/var/folders/v9/p596rfjn6f5cxry5bh_b_0cw0000gn/T/ipykernel_2020/2891833957.py:15: UserWarning: The palette list has more values (8) than needed (2), which may not be intended.\n",
      "  ax = sns.boxplot(data=long_df, x=\"rho_label\", y=\"Score\", hue=\"Metric\", palette=palette, width=0.6, fliersize=2)\n"
     ]
    },
    {
     "data": {
      "image/png": "[encoded data removed]",
      "text/plain": [
       "<Figure size 1200x600 with 1 Axes>"
      ]
     },
     "metadata": {},
     "output_type": "display_data"
    }
   ],
   "source": [
    "# make the plot\n",
    "rho_df[\"rho_label\"] = rho_df[\"rho\"].map(lambda x: f\"{x:.1f}\")\n",
    "long_df = rho_df.melt(\n",
    "    id_vars=[\"sample_index\", \"rho_label\"],\n",
    "    value_vars=[\"iou\", \"rand_index\"],\n",
    "    var_name=\"Metric\",\n",
    "    value_name=\"Score\"\n",
    ")\n",
    "\n",
    "# set style\n",
    "sns.set_theme(style=\"whitegrid\")\n",
    "palette = sns.color_palette(\"Set2\")  # custom color palette (colorblind friendly)\n",
    "\n",
    "plt.figure(figsize=(12, 6))\n",
    "ax = sns.boxplot(data=long_df, x=\"rho_label\", y=\"Score\", hue=\"Metric\", palette=palette, width=0.6, fliersize=2)\n",
    "\n",
    "# ax.set_title(\"Ablation Study: Effect of Block Size on Detection Performance\", fontsize=18, pad=20)\n",
    "ax.set_xlabel(r\"$\\rho$\", fontsize=14)\n",
    "ax.set_ylabel(\"Performance Score\", fontsize=14)\n",
    "# ax.set_xticklabels(ax.get_xticklabels(), rotation=45)  # rotate x labels if needed\n",
    "# handles, labels = ax.get_legend_handles_labels() # improve legend\n",
    "# ax.legend(handles[:2], labels[:2], title=\"Metric\", loc=\"upper center\", bbox_to_anchor=(0.5, -0.2), ncol=2, frameon=False)\n",
    "\n",
    "plt.tight_layout()\n",
    "plt.show()"
   ]
  },
  {
   "cell_type": "code",
   "execution_count": null,
   "id": "1f7f26d8",
   "metadata": {},
   "outputs": [],
   "source": []
  }
 ],
 "metadata": {
  "kernelspec": {
   "display_name": "Python 3",
   "language": "python",
   "name": "python3"
  },
  "language_info": {
   "codemirror_mode": {
    "name": "ipython",
    "version": 3
   },
   "file_extension": ".py",
   "mimetype": "text/x-python",
   "name": "python",
   "nbconvert_exporter": "python",
   "pygments_lexer": "ipython3",
   "version": "3.13.6"
  }
 },
 "nbformat": 4,
 "nbformat_minor": 5
}
